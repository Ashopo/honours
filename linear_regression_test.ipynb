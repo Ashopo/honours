{
 "cells": [
  {
   "cell_type": "code",
   "execution_count": 1,
   "metadata": {},
   "outputs": [],
   "source": [
    "# Use ADAM_TC to solve linear regression problem\n",
    "%load_ext autoreload\n",
    "%autoreload 2\n",
    "import ObjectiveFunction as of\n",
    "import helper_funcs as hf\n",
    "import numpy as np\n",
    "import torch\n",
    "import plotly\n",
    "import plotly.graph_objects as go\n",
    "from plotly.subplots import make_subplots\n",
    "import plotly.express as px\n",
    "import itertools\n",
    "from ADAM_TC import ADAM_TC"
   ]
  },
  {
   "cell_type": "code",
   "execution_count": 7,
   "metadata": {},
   "outputs": [
    {
     "data": {
      "application/vnd.plotly.v1+json": {
       "config": {
        "plotlyServerURL": "https://plot.ly"
       },
       "data": [
        {
         "hovertemplate": "x=%{x}<br>y=%{y}<extra></extra>",
         "legendgroup": "",
         "marker": {
          "color": "#636efa",
          "symbol": "circle"
         },
         "mode": "markers",
         "name": "",
         "orientation": "v",
         "showlegend": false,
         "type": "scatter",
         "x": [
          -5,
          -4,
          -3,
          -2,
          -1,
          0,
          1,
          2,
          3,
          4
         ],
         "xaxis": "x",
         "y": [
          -11.765134811401367,
          -1.911069393157959,
          -4.542088985443115,
          3.212367057800293,
          -1.1877505779266357,
          10.628811836242676,
          2.5029945373535156,
          13.192886352539062,
          10.334381103515625,
          21.661148071289062
         ],
         "yaxis": "y"
        }
       ],
       "layout": {
        "legend": {
         "tracegroupgap": 0
        },
        "margin": {
         "t": 60
        },
        "template": {
         "data": {
          "bar": [
           {
            "error_x": {
             "color": "#2a3f5f"
            },
            "error_y": {
             "color": "#2a3f5f"
            },
            "marker": {
             "line": {
              "color": "#E5ECF6",
              "width": 0.5
             },
             "pattern": {
              "fillmode": "overlay",
              "size": 10,
              "solidity": 0.2
             }
            },
            "type": "bar"
           }
          ],
          "barpolar": [
           {
            "marker": {
             "line": {
              "color": "#E5ECF6",
              "width": 0.5
             },
             "pattern": {
              "fillmode": "overlay",
              "size": 10,
              "solidity": 0.2
             }
            },
            "type": "barpolar"
           }
          ],
          "carpet": [
           {
            "aaxis": {
             "endlinecolor": "#2a3f5f",
             "gridcolor": "white",
             "linecolor": "white",
             "minorgridcolor": "white",
             "startlinecolor": "#2a3f5f"
            },
            "baxis": {
             "endlinecolor": "#2a3f5f",
             "gridcolor": "white",
             "linecolor": "white",
             "minorgridcolor": "white",
             "startlinecolor": "#2a3f5f"
            },
            "type": "carpet"
           }
          ],
          "choropleth": [
           {
            "colorbar": {
             "outlinewidth": 0,
             "ticks": ""
            },
            "type": "choropleth"
           }
          ],
          "contour": [
           {
            "colorbar": {
             "outlinewidth": 0,
             "ticks": ""
            },
            "colorscale": [
             [
              0,
              "#0d0887"
             ],
             [
              0.1111111111111111,
              "#46039f"
             ],
             [
              0.2222222222222222,
              "#7201a8"
             ],
             [
              0.3333333333333333,
              "#9c179e"
             ],
             [
              0.4444444444444444,
              "#bd3786"
             ],
             [
              0.5555555555555556,
              "#d8576b"
             ],
             [
              0.6666666666666666,
              "#ed7953"
             ],
             [
              0.7777777777777778,
              "#fb9f3a"
             ],
             [
              0.8888888888888888,
              "#fdca26"
             ],
             [
              1,
              "#f0f921"
             ]
            ],
            "type": "contour"
           }
          ],
          "contourcarpet": [
           {
            "colorbar": {
             "outlinewidth": 0,
             "ticks": ""
            },
            "type": "contourcarpet"
           }
          ],
          "heatmap": [
           {
            "colorbar": {
             "outlinewidth": 0,
             "ticks": ""
            },
            "colorscale": [
             [
              0,
              "#0d0887"
             ],
             [
              0.1111111111111111,
              "#46039f"
             ],
             [
              0.2222222222222222,
              "#7201a8"
             ],
             [
              0.3333333333333333,
              "#9c179e"
             ],
             [
              0.4444444444444444,
              "#bd3786"
             ],
             [
              0.5555555555555556,
              "#d8576b"
             ],
             [
              0.6666666666666666,
              "#ed7953"
             ],
             [
              0.7777777777777778,
              "#fb9f3a"
             ],
             [
              0.8888888888888888,
              "#fdca26"
             ],
             [
              1,
              "#f0f921"
             ]
            ],
            "type": "heatmap"
           }
          ],
          "heatmapgl": [
           {
            "colorbar": {
             "outlinewidth": 0,
             "ticks": ""
            },
            "colorscale": [
             [
              0,
              "#0d0887"
             ],
             [
              0.1111111111111111,
              "#46039f"
             ],
             [
              0.2222222222222222,
              "#7201a8"
             ],
             [
              0.3333333333333333,
              "#9c179e"
             ],
             [
              0.4444444444444444,
              "#bd3786"
             ],
             [
              0.5555555555555556,
              "#d8576b"
             ],
             [
              0.6666666666666666,
              "#ed7953"
             ],
             [
              0.7777777777777778,
              "#fb9f3a"
             ],
             [
              0.8888888888888888,
              "#fdca26"
             ],
             [
              1,
              "#f0f921"
             ]
            ],
            "type": "heatmapgl"
           }
          ],
          "histogram": [
           {
            "marker": {
             "pattern": {
              "fillmode": "overlay",
              "size": 10,
              "solidity": 0.2
             }
            },
            "type": "histogram"
           }
          ],
          "histogram2d": [
           {
            "colorbar": {
             "outlinewidth": 0,
             "ticks": ""
            },
            "colorscale": [
             [
              0,
              "#0d0887"
             ],
             [
              0.1111111111111111,
              "#46039f"
             ],
             [
              0.2222222222222222,
              "#7201a8"
             ],
             [
              0.3333333333333333,
              "#9c179e"
             ],
             [
              0.4444444444444444,
              "#bd3786"
             ],
             [
              0.5555555555555556,
              "#d8576b"
             ],
             [
              0.6666666666666666,
              "#ed7953"
             ],
             [
              0.7777777777777778,
              "#fb9f3a"
             ],
             [
              0.8888888888888888,
              "#fdca26"
             ],
             [
              1,
              "#f0f921"
             ]
            ],
            "type": "histogram2d"
           }
          ],
          "histogram2dcontour": [
           {
            "colorbar": {
             "outlinewidth": 0,
             "ticks": ""
            },
            "colorscale": [
             [
              0,
              "#0d0887"
             ],
             [
              0.1111111111111111,
              "#46039f"
             ],
             [
              0.2222222222222222,
              "#7201a8"
             ],
             [
              0.3333333333333333,
              "#9c179e"
             ],
             [
              0.4444444444444444,
              "#bd3786"
             ],
             [
              0.5555555555555556,
              "#d8576b"
             ],
             [
              0.6666666666666666,
              "#ed7953"
             ],
             [
              0.7777777777777778,
              "#fb9f3a"
             ],
             [
              0.8888888888888888,
              "#fdca26"
             ],
             [
              1,
              "#f0f921"
             ]
            ],
            "type": "histogram2dcontour"
           }
          ],
          "mesh3d": [
           {
            "colorbar": {
             "outlinewidth": 0,
             "ticks": ""
            },
            "type": "mesh3d"
           }
          ],
          "parcoords": [
           {
            "line": {
             "colorbar": {
              "outlinewidth": 0,
              "ticks": ""
             }
            },
            "type": "parcoords"
           }
          ],
          "pie": [
           {
            "automargin": true,
            "type": "pie"
           }
          ],
          "scatter": [
           {
            "marker": {
             "colorbar": {
              "outlinewidth": 0,
              "ticks": ""
             }
            },
            "type": "scatter"
           }
          ],
          "scatter3d": [
           {
            "line": {
             "colorbar": {
              "outlinewidth": 0,
              "ticks": ""
             }
            },
            "marker": {
             "colorbar": {
              "outlinewidth": 0,
              "ticks": ""
             }
            },
            "type": "scatter3d"
           }
          ],
          "scattercarpet": [
           {
            "marker": {
             "colorbar": {
              "outlinewidth": 0,
              "ticks": ""
             }
            },
            "type": "scattercarpet"
           }
          ],
          "scattergeo": [
           {
            "marker": {
             "colorbar": {
              "outlinewidth": 0,
              "ticks": ""
             }
            },
            "type": "scattergeo"
           }
          ],
          "scattergl": [
           {
            "marker": {
             "colorbar": {
              "outlinewidth": 0,
              "ticks": ""
             }
            },
            "type": "scattergl"
           }
          ],
          "scattermapbox": [
           {
            "marker": {
             "colorbar": {
              "outlinewidth": 0,
              "ticks": ""
             }
            },
            "type": "scattermapbox"
           }
          ],
          "scatterpolar": [
           {
            "marker": {
             "colorbar": {
              "outlinewidth": 0,
              "ticks": ""
             }
            },
            "type": "scatterpolar"
           }
          ],
          "scatterpolargl": [
           {
            "marker": {
             "colorbar": {
              "outlinewidth": 0,
              "ticks": ""
             }
            },
            "type": "scatterpolargl"
           }
          ],
          "scatterternary": [
           {
            "marker": {
             "colorbar": {
              "outlinewidth": 0,
              "ticks": ""
             }
            },
            "type": "scatterternary"
           }
          ],
          "surface": [
           {
            "colorbar": {
             "outlinewidth": 0,
             "ticks": ""
            },
            "colorscale": [
             [
              0,
              "#0d0887"
             ],
             [
              0.1111111111111111,
              "#46039f"
             ],
             [
              0.2222222222222222,
              "#7201a8"
             ],
             [
              0.3333333333333333,
              "#9c179e"
             ],
             [
              0.4444444444444444,
              "#bd3786"
             ],
             [
              0.5555555555555556,
              "#d8576b"
             ],
             [
              0.6666666666666666,
              "#ed7953"
             ],
             [
              0.7777777777777778,
              "#fb9f3a"
             ],
             [
              0.8888888888888888,
              "#fdca26"
             ],
             [
              1,
              "#f0f921"
             ]
            ],
            "type": "surface"
           }
          ],
          "table": [
           {
            "cells": {
             "fill": {
              "color": "#EBF0F8"
             },
             "line": {
              "color": "white"
             }
            },
            "header": {
             "fill": {
              "color": "#C8D4E3"
             },
             "line": {
              "color": "white"
             }
            },
            "type": "table"
           }
          ]
         },
         "layout": {
          "annotationdefaults": {
           "arrowcolor": "#2a3f5f",
           "arrowhead": 0,
           "arrowwidth": 1
          },
          "autotypenumbers": "strict",
          "coloraxis": {
           "colorbar": {
            "outlinewidth": 0,
            "ticks": ""
           }
          },
          "colorscale": {
           "diverging": [
            [
             0,
             "#8e0152"
            ],
            [
             0.1,
             "#c51b7d"
            ],
            [
             0.2,
             "#de77ae"
            ],
            [
             0.3,
             "#f1b6da"
            ],
            [
             0.4,
             "#fde0ef"
            ],
            [
             0.5,
             "#f7f7f7"
            ],
            [
             0.6,
             "#e6f5d0"
            ],
            [
             0.7,
             "#b8e186"
            ],
            [
             0.8,
             "#7fbc41"
            ],
            [
             0.9,
             "#4d9221"
            ],
            [
             1,
             "#276419"
            ]
           ],
           "sequential": [
            [
             0,
             "#0d0887"
            ],
            [
             0.1111111111111111,
             "#46039f"
            ],
            [
             0.2222222222222222,
             "#7201a8"
            ],
            [
             0.3333333333333333,
             "#9c179e"
            ],
            [
             0.4444444444444444,
             "#bd3786"
            ],
            [
             0.5555555555555556,
             "#d8576b"
            ],
            [
             0.6666666666666666,
             "#ed7953"
            ],
            [
             0.7777777777777778,
             "#fb9f3a"
            ],
            [
             0.8888888888888888,
             "#fdca26"
            ],
            [
             1,
             "#f0f921"
            ]
           ],
           "sequentialminus": [
            [
             0,
             "#0d0887"
            ],
            [
             0.1111111111111111,
             "#46039f"
            ],
            [
             0.2222222222222222,
             "#7201a8"
            ],
            [
             0.3333333333333333,
             "#9c179e"
            ],
            [
             0.4444444444444444,
             "#bd3786"
            ],
            [
             0.5555555555555556,
             "#d8576b"
            ],
            [
             0.6666666666666666,
             "#ed7953"
            ],
            [
             0.7777777777777778,
             "#fb9f3a"
            ],
            [
             0.8888888888888888,
             "#fdca26"
            ],
            [
             1,
             "#f0f921"
            ]
           ]
          },
          "colorway": [
           "#636efa",
           "#EF553B",
           "#00cc96",
           "#ab63fa",
           "#FFA15A",
           "#19d3f3",
           "#FF6692",
           "#B6E880",
           "#FF97FF",
           "#FECB52"
          ],
          "font": {
           "color": "#2a3f5f"
          },
          "geo": {
           "bgcolor": "white",
           "lakecolor": "white",
           "landcolor": "#E5ECF6",
           "showlakes": true,
           "showland": true,
           "subunitcolor": "white"
          },
          "hoverlabel": {
           "align": "left"
          },
          "hovermode": "closest",
          "mapbox": {
           "style": "light"
          },
          "paper_bgcolor": "white",
          "plot_bgcolor": "#E5ECF6",
          "polar": {
           "angularaxis": {
            "gridcolor": "white",
            "linecolor": "white",
            "ticks": ""
           },
           "bgcolor": "#E5ECF6",
           "radialaxis": {
            "gridcolor": "white",
            "linecolor": "white",
            "ticks": ""
           }
          },
          "scene": {
           "xaxis": {
            "backgroundcolor": "#E5ECF6",
            "gridcolor": "white",
            "gridwidth": 2,
            "linecolor": "white",
            "showbackground": true,
            "ticks": "",
            "zerolinecolor": "white"
           },
           "yaxis": {
            "backgroundcolor": "#E5ECF6",
            "gridcolor": "white",
            "gridwidth": 2,
            "linecolor": "white",
            "showbackground": true,
            "ticks": "",
            "zerolinecolor": "white"
           },
           "zaxis": {
            "backgroundcolor": "#E5ECF6",
            "gridcolor": "white",
            "gridwidth": 2,
            "linecolor": "white",
            "showbackground": true,
            "ticks": "",
            "zerolinecolor": "white"
           }
          },
          "shapedefaults": {
           "line": {
            "color": "#2a3f5f"
           }
          },
          "ternary": {
           "aaxis": {
            "gridcolor": "white",
            "linecolor": "white",
            "ticks": ""
           },
           "baxis": {
            "gridcolor": "white",
            "linecolor": "white",
            "ticks": ""
           },
           "bgcolor": "#E5ECF6",
           "caxis": {
            "gridcolor": "white",
            "linecolor": "white",
            "ticks": ""
           }
          },
          "title": {
           "x": 0.05
          },
          "xaxis": {
           "automargin": true,
           "gridcolor": "white",
           "linecolor": "white",
           "ticks": "",
           "title": {
            "standoff": 15
           },
           "zerolinecolor": "white",
           "zerolinewidth": 2
          },
          "yaxis": {
           "automargin": true,
           "gridcolor": "white",
           "linecolor": "white",
           "ticks": "",
           "title": {
            "standoff": 15
           },
           "zerolinecolor": "white",
           "zerolinewidth": 2
          }
         }
        },
        "xaxis": {
         "anchor": "y",
         "domain": [
          0,
          1
         ],
         "title": {
          "text": "x"
         }
        },
        "yaxis": {
         "anchor": "x",
         "domain": [
          0,
          1
         ],
         "title": {
          "text": "y"
         }
        }
       }
      }
     },
     "metadata": {},
     "output_type": "display_data"
    }
   ],
   "source": [
    "def linear_data_wnoise(mtrue, btrue, sigma, n):\n",
    "\n",
    "    Xdata_r = torch.arange(-n//2, n//2).float()\n",
    "    ydata_r = mtrue * Xdata_r + btrue + sigma*torch.randn(size=(len(Xdata_r),))\n",
    "    Xdata = Xdata_r[:,None]\n",
    "    ydata = ydata_r[:,None]\n",
    "\n",
    "    return Xdata, ydata, Xdata_r, ydata_r\n",
    "\n",
    "mtrue, btrue, sigma = 3.0, 4.0, 3.0\n",
    "Xdata, ydata, Xdata_r, ydata_r = linear_data_wnoise(mtrue, btrue, sigma, 10)\n",
    "px.scatter(x=Xdata_r, y=ydata_r)\n"
   ]
  },
  {
   "cell_type": "code",
   "execution_count": 48,
   "metadata": {},
   "outputs": [
    {
     "name": "stdout",
     "output_type": "stream",
     "text": [
      "Epoch 0: 212.0286102294922\n",
      "ADAM ratio: tensor(28.5571) 0\n",
      "Epoch 1: 151.8529510498047\n",
      "ADAM ratio: tensor(0.0494) Epoch 2: 586.8972778320312\n",
      "ADAM ratio: tensor(0.0138) Epoch 3: 126.48628997802734\n",
      "ADAM ratio: tensor(0.1199) Epoch 4: 284.658203125\n",
      "ADAM ratio: tensor(0.0420) Epoch 5: 358.282958984375\n",
      "ADAM ratio: tensor(0.0128) Epoch 6: 373.6379699707031\n",
      "ADAM ratio: tensor(0.0105) Epoch 7: 172.78030395507812\n",
      "ADAM ratio: tensor(0.0843) Epoch 8: 168.89260864257812\n",
      "ADAM ratio: tensor(0.1224) Epoch 9: 702.145751953125\n",
      "ADAM ratio: tensor(0.0033) Epoch 10: 853.93359375\n",
      "ADAM ratio: tensor(0.0051) Epoch 11: 845.3489990234375\n",
      "ADAM ratio: tensor(0.0005) Epoch 12: 833.4680786132812\n",
      "ADAM ratio: tensor(0.0023) Epoch 13: 795.8807373046875\n",
      "ADAM ratio: tensor(0.0159) Epoch 14: 382.6225280761719\n",
      "ADAM ratio: tensor(0.0108) Epoch 15: 386.0341491699219\n",
      "ADAM ratio: tensor(0.0106) Epoch 16: 479.7774963378906\n",
      "ADAM ratio: tensor(0.0053) Epoch 17: 390.78204345703125\n",
      "ADAM ratio: tensor(0.0610) Epoch 18: 32.04328155517578\n",
      "ADAM ratio: tensor(0.0273) Epoch 19: 46.79698181152344\n",
      "ADAM ratio: tensor(0.0422) Epoch 20: 52.95972442626953\n",
      "ADAM ratio: tensor(0.0148) Epoch 21: 92.53230285644531\n",
      "ADAM ratio: tensor(0.0100) Epoch 22: 107.34761047363281\n",
      "ADAM ratio: tensor(0.0045) Epoch 23: 132.30068969726562\n",
      "ADAM ratio: tensor(0.0118) Epoch 24: 196.6343231201172\n",
      "ADAM ratio: tensor(0.0061) Epoch 25: 213.9674835205078\n",
      "ADAM ratio: tensor(0.0270) Epoch 26: 130.68478393554688\n",
      "ADAM ratio: tensor(0.0587) Epoch 27: 445.6246643066406\n",
      "ADAM ratio: tensor(0.0279) Epoch 28: 376.83026123046875\n",
      "ADAM ratio: tensor(0.0023) Epoch 29: 333.1173400878906\n",
      "ADAM ratio: tensor(0.0194) Epoch 30: 316.36541748046875\n",
      "ADAM ratio: tensor(0.0018) Epoch 31: 274.6237487792969\n",
      "ADAM ratio: tensor(0.0037) Epoch 32: 215.32632446289062\n",
      "ADAM ratio: tensor(0.0501) Epoch 33: 116.46150970458984\n",
      "ADAM ratio: tensor(0.0021) Epoch 34: 81.67915344238281\n",
      "ADAM ratio: tensor(0.0329) Epoch 35: 79.65019226074219\n",
      "ADAM ratio: tensor(0.0549) Epoch 36: 114.4578628540039\n",
      "ADAM ratio: tensor(0.0032) Epoch 37: 76.14591217041016\n",
      "ADAM ratio: tensor(0.0063) Epoch 38: 55.77587127685547\n",
      "ADAM ratio: tensor(0.0088) Epoch 39: 45.332923889160156\n",
      "ADAM ratio: tensor(0.0160) Epoch 40: 27.069772720336914\n",
      "ADAM ratio: tensor(0.0016) Epoch 41: 18.939693450927734\n",
      "ADAM ratio: tensor(0.0165) Epoch 42: 15.707662582397461\n",
      "ADAM ratio: tensor(0.1649) Epoch 43: 20.26803970336914\n",
      "ADAM ratio: tensor(0.0443) Epoch 44: 34.195831298828125\n",
      "ADAM ratio: tensor(0.0192) Epoch 45: 45.93920135498047\n",
      "ADAM ratio: tensor(0.0048) Epoch 46: 50.429466247558594\n",
      "ADAM ratio: tensor(0.0537) Epoch 47: 21.279613494873047\n",
      "ADAM ratio: tensor(0.0521) Epoch 48: 23.73976707458496\n",
      "ADAM ratio: tensor(1.0366) Epoch 49: 557.1678466796875\n",
      "ADAM ratio: tensor(0.0004) Epoch 50: 552.9808349609375\n",
      "ADAM ratio: tensor(0.0066) Epoch 51: 664.9954833984375\n",
      "ADAM ratio: tensor(0.0022) Epoch 52: 589.2102661132812\n",
      "ADAM ratio: tensor(0.0142) Epoch 53: 613.8712768554688\n",
      "ADAM ratio: tensor(0.0027) Epoch 54: 586.8445434570312\n",
      "ADAM ratio: tensor(0.0030) Epoch 55: 485.42449951171875\n",
      "ADAM ratio: tensor(0.0094) Epoch 56: 491.62921142578125\n",
      "ADAM ratio: tensor(0.0027) Epoch 57: 393.0559997558594\n",
      "ADAM ratio: tensor(0.0078) Epoch 58: 366.4710388183594\n",
      "ADAM ratio: tensor(0.0080) Epoch 59: 277.5213623046875\n",
      "ADAM ratio: tensor(0.0279) Epoch 60: 227.1838836669922\n",
      "ADAM ratio: tensor(0.0100) 60\n",
      "Epoch 61: 181.83364868164062\n",
      "ADAM ratio: tensor(0.0045) Epoch 62: 138.90289306640625\n",
      "ADAM ratio: tensor(0.0180) Epoch 63: 125.89957427978516\n",
      "ADAM ratio: tensor(0.0044) Epoch 64: 92.86402130126953\n",
      "ADAM ratio: tensor(0.3098) Epoch 65: 1298.376953125\n",
      "ADAM ratio: tensor(0.0008) Epoch 66: 1136.918701171875\n",
      "ADAM ratio: tensor(0.0034) Epoch 67: 969.5682373046875\n",
      "ADAM ratio: tensor(0.0015) Epoch 68: 838.9300537109375\n",
      "ADAM ratio: tensor(0.0011) Epoch 69: 671.263427734375\n",
      "ADAM ratio: tensor(0.0005) Epoch 70: 521.4429321289062\n",
      "ADAM ratio: tensor(0.0230) Epoch 71: 704.4813842773438\n",
      "ADAM ratio: tensor(0.0087) Epoch 72: 446.958251953125\n",
      "ADAM ratio: tensor(0.0050) Epoch 73: 284.31103515625\n",
      "ADAM ratio: tensor(0.1882) Epoch 74: 1324.402587890625\n",
      "ADAM ratio: tensor(0.0011) Epoch 75: 1041.73388671875\n",
      "ADAM ratio: tensor(0.0019) Epoch 76: 862.9766845703125\n",
      "ADAM ratio: tensor(0.0005) Epoch 77: 669.5164794921875\n",
      "ADAM ratio: tensor(0.0222) Epoch 78: 779.7259521484375\n",
      "ADAM ratio: tensor(0.0026) Epoch 79: 631.4029541015625\n",
      "ADAM ratio: tensor(0.0007) Epoch 80: 467.47723388671875\n",
      "ADAM ratio: tensor(0.0013) Epoch 81: 334.67572021484375\n",
      "ADAM ratio: tensor(0.0033) Epoch 82: 198.12867736816406\n",
      "ADAM ratio: tensor(0.0018) Epoch 83: 116.1609115600586\n",
      "ADAM ratio: tensor(0.0060) Epoch 84: 68.22520446777344\n",
      "ADAM ratio: tensor(0.0045) Epoch 85: 39.61200714111328\n",
      "ADAM ratio: tensor(0.0835) Epoch 86: 52.18074417114258\n",
      "ADAM ratio: tensor(0.0149) Epoch 87: 34.171051025390625\n",
      "ADAM ratio: tensor(0.0040) Epoch 88: 28.58156394958496\n",
      "ADAM ratio: tensor(0.0257) Epoch 89: 30.83150863647461\n",
      "ADAM ratio: tensor(0.0166) Epoch 90: 39.26628112792969\n",
      "ADAM ratio: tensor(0.0035) Epoch 91: 55.02130889892578\n",
      "ADAM ratio: tensor(0.0106) Epoch 92: 64.11104583740234\n",
      "ADAM ratio: tensor(0.0014) Epoch 93: 76.32071685791016\n",
      "ADAM ratio: tensor(0.0032) Epoch 94: 93.80027770996094\n",
      "ADAM ratio: tensor(0.0042) Epoch 95: 113.438720703125\n",
      "ADAM ratio: tensor(0.0353) Epoch 96: 34.53744888305664\n",
      "ADAM ratio: tensor(0.0127) Epoch 97: 44.53437805175781\n",
      "ADAM ratio: tensor(0.0139) Epoch 98: 48.89463424682617\n",
      "ADAM ratio: tensor(0.0326) Epoch 99: 93.47871398925781\n",
      "ADAM ratio: tensor(0.0043) Epoch 100: 99.06095886230469\n",
      "ADAM ratio: tensor(0.0029) Epoch 101: 93.97808074951172\n",
      "ADAM ratio: tensor(0.0133) Epoch 102: 99.11600494384766\n",
      "ADAM ratio: tensor(0.0012) Epoch 103: 88.0232162475586\n",
      "ADAM ratio: tensor(0.0091) Epoch 104: 86.79985046386719\n",
      "ADAM ratio: tensor(0.0060) Epoch 105: 78.16630554199219\n",
      "ADAM ratio: tensor(0.0049) Epoch 106: 68.27074432373047\n",
      "ADAM ratio: tensor(0.0049) Epoch 107: 63.476600646972656\n",
      "ADAM ratio: tensor(0.0168) Epoch 108: 36.2183723449707\n",
      "ADAM ratio: tensor(0.0100) Epoch 109: 34.59211349487305\n",
      "ADAM ratio: tensor(0.0205) Epoch 110: 36.67285919189453\n",
      "ADAM ratio: tensor(0.0071) Epoch 111: 30.877548217773438\n",
      "ADAM ratio: tensor(0.0524) Epoch 112: 29.825077056884766\n",
      "ADAM ratio: tensor(0.0047) Epoch 113: 29.366504669189453\n",
      "ADAM ratio: tensor(0.0090) Epoch 114: 30.28125\n",
      "ADAM ratio: tensor(0.0126) Epoch 115: 31.235815048217773\n",
      "ADAM ratio: tensor(0.0061) Epoch 116: 30.591772079467773\n",
      "ADAM ratio: tensor(0.0123) Epoch 117: 33.190032958984375\n",
      "ADAM ratio: tensor(0.0071) Epoch 118: 35.90119171142578\n",
      "ADAM ratio: tensor(0.0045) Epoch 119: 37.01085662841797\n",
      "ADAM ratio: tensor(0.0038) Epoch 120: 35.497257232666016\n",
      "ADAM ratio: tensor(0.0008) 120\n",
      "Epoch 121: 33.43436050415039\n",
      "ADAM ratio: tensor(0.0013) Epoch 122: 31.267955780029297\n",
      "ADAM ratio: tensor(0.0545) Epoch 123: 15.834402084350586\n",
      "ADAM ratio: tensor(0.0252) Epoch 124: 15.515378952026367\n",
      "ADAM ratio: tensor(0.1590) Epoch 125: 16.15241050720215\n",
      "ADAM ratio: tensor(0.0264) Epoch 126: 17.174617767333984\n",
      "ADAM ratio: tensor(0.0303) Epoch 127: 18.263545989990234\n",
      "ADAM ratio: tensor(0.0149) Epoch 128: 18.357789993286133\n",
      "ADAM ratio: tensor(0.0057) Epoch 129: 19.04659080505371\n",
      "ADAM ratio: tensor(0.0283) Epoch 130: 21.60353660583496\n",
      "ADAM ratio: tensor(0.0529) Epoch 131: 19.38581085205078\n",
      "ADAM ratio: tensor(0.0289) Epoch 132: 17.617374420166016\n",
      "ADAM ratio: tensor(0.0585) Epoch 133: 20.841808319091797\n",
      "ADAM ratio: tensor(0.0069) Epoch 134: 19.446651458740234\n",
      "ADAM ratio: tensor(0.0837) Epoch 135: 17.491514205932617\n",
      "ADAM ratio: tensor(0.0174) Epoch 136: 17.538799285888672\n",
      "ADAM ratio: tensor(0.1955) Epoch 137: 22.96418571472168\n",
      "ADAM ratio: tensor(0.0122) Epoch 138: 21.893352508544922\n",
      "ADAM ratio: tensor(0.0029) Epoch 139: 21.070955276489258\n",
      "ADAM ratio: tensor(0.0421) Epoch 140: 21.801097869873047\n",
      "ADAM ratio: tensor(0.0054) Epoch 141: 21.13475227355957\n",
      "ADAM ratio: tensor(0.0368) Epoch 142: 16.567846298217773\n",
      "ADAM ratio: tensor(0.0646) Epoch 143: 15.758394241333008\n",
      "ADAM ratio: tensor(0.2429) Epoch 144: 15.940559387207031\n",
      "ADAM ratio: tensor(0.0465) Epoch 145: 15.916147232055664\n",
      "ADAM ratio: tensor(0.1620) Epoch 146: 19.90619659423828\n",
      "ADAM ratio: tensor(0.0025) Epoch 147: 20.22510528564453\n",
      "ADAM ratio: tensor(0.0372) Epoch 148: 27.1715087890625\n",
      "ADAM ratio: tensor(0.0083) Epoch 149: 28.7380313873291\n",
      "ADAM ratio: tensor(0.0212) Epoch 150: 38.22376251220703\n",
      "ADAM ratio: tensor(0.0744) Epoch 151: 19.146272659301758\n",
      "ADAM ratio: tensor(0.0214) Epoch 152: 18.824565887451172\n",
      "ADAM ratio: tensor(0.0075) Epoch 153: 18.468822479248047\n",
      "ADAM ratio: tensor(0.0040) Epoch 154: 18.191585540771484\n",
      "ADAM ratio: tensor(0.0148) Epoch 155: 17.41071891784668\n",
      "ADAM ratio: tensor(0.1043) Epoch 156: 17.403074264526367\n",
      "ADAM ratio: tensor(0.0126) Epoch 157: 16.79543685913086\n",
      "ADAM ratio: tensor(0.0060) Epoch 158: 16.628578186035156\n",
      "ADAM ratio: tensor(0.0485) Epoch 159: 17.353315353393555\n",
      "ADAM ratio: tensor(0.5961) Epoch 160: 90.52046203613281\n",
      "ADAM ratio: tensor(0.0031) Epoch 161: 86.41624450683594\n",
      "ADAM ratio: tensor(0.0073) Epoch 162: 77.194580078125\n",
      "ADAM ratio: tensor(0.0205) Epoch 163: 44.966636657714844\n",
      "ADAM ratio: tensor(0.0108) Epoch 164: 38.81233596801758\n",
      "ADAM ratio: tensor(0.0042) Epoch 165: 34.151710510253906\n",
      "ADAM ratio: tensor(0.0017) Epoch 166: 30.7637996673584\n",
      "ADAM ratio: tensor(0.0067) Epoch 167: 26.153268814086914\n",
      "ADAM ratio: tensor(0.0218) Epoch 168: 21.522363662719727\n",
      "ADAM ratio: tensor(0.0082) Epoch 169: 20.164913177490234\n",
      "ADAM ratio: tensor(14.4400) Epoch 170: 1441.2718505859375\n",
      "ADAM ratio: tensor(0.0004) Epoch 171: 1364.57861328125\n",
      "ADAM ratio: tensor(0.0011) Epoch 172: 1215.30126953125\n",
      "ADAM ratio: tensor(0.0008) Epoch 173: 1068.9544677734375\n",
      "ADAM ratio: tensor(0.1154) Epoch 174: 69.69364166259766\n",
      "ADAM ratio: tensor(0.0009) Epoch 175: 36.67426300048828\n",
      "ADAM ratio: tensor(0.0125) Epoch 176: 22.267379760742188\n",
      "ADAM ratio: tensor(0.0027) Epoch 177: 15.928431510925293\n",
      "ADAM ratio: tensor(0.0932) Epoch 178: 19.06879425048828\n",
      "ADAM ratio: tensor(0.0164) Epoch 179: 26.663232803344727\n",
      "ADAM ratio: tensor(0.0480) Epoch 180: 25.04770278930664\n",
      "ADAM ratio: tensor(0.0073) 180\n",
      "Epoch 181: 35.65807342529297\n",
      "ADAM ratio: tensor(0.0055) Epoch 182: 51.66370391845703\n",
      "ADAM ratio: tensor(0.0084) Epoch 183: 68.77965545654297\n",
      "ADAM ratio: tensor(0.0036) Epoch 184: 72.21064758300781\n",
      "ADAM ratio: tensor(0.0005) Epoch 185: 79.2335433959961\n",
      "ADAM ratio: tensor(0.0058) Epoch 186: 95.23519134521484\n",
      "ADAM ratio: tensor(0.0102) Epoch 187: 123.5520248413086\n",
      "ADAM ratio: tensor(0.0048) Epoch 188: 101.62963104248047\n",
      "ADAM ratio: tensor(0.0016) Epoch 189: 90.55614471435547\n",
      "ADAM ratio: tensor(0.0160) Epoch 190: 59.20093536376953\n",
      "ADAM ratio: tensor(0.0162) Epoch 191: 45.918434143066406\n",
      "ADAM ratio: tensor(0.0053) Epoch 192: 36.92356491088867\n",
      "ADAM ratio: tensor(0.0071) Epoch 193: 32.13059997558594\n",
      "ADAM ratio: tensor(0.0012) Epoch 194: 26.372243881225586\n",
      "ADAM ratio: tensor(0.0030) Epoch 195: 21.811695098876953\n",
      "ADAM ratio: tensor(0.0028) Epoch 196: 18.756710052490234\n",
      "ADAM ratio: tensor(0.0104) Epoch 197: 16.221691131591797\n",
      "ADAM ratio: tensor(0.0084) Epoch 198: 16.027706146240234\n",
      "ADAM ratio: tensor(0.0484) Epoch 199: 16.796323776245117\n",
      "ADAM ratio: tensor(0.1324) Epoch 200: 17.18095588684082\n",
      "ADAM ratio: tensor(0.0059) Epoch 201: 18.883441925048828\n",
      "ADAM ratio: tensor(0.0031) Epoch 202: 20.20334815979004\n",
      "ADAM ratio: tensor(0.0126) Epoch 203: 20.64216423034668\n",
      "ADAM ratio: tensor(0.0034) Epoch 204: 21.374187469482422\n",
      "ADAM ratio: tensor(0.0044) Epoch 205: 22.739322662353516\n",
      "ADAM ratio: tensor(0.0152) Epoch 206: 26.654582977294922\n",
      "ADAM ratio: tensor(0.0051) Epoch 207: 26.046157836914062\n",
      "ADAM ratio: tensor(0.0054) Epoch 208: 25.265790939331055\n",
      "ADAM ratio: tensor(0.0087) Epoch 209: 21.71656036376953\n",
      "ADAM ratio: tensor(0.1634) Epoch 210: 19.62691879272461\n",
      "ADAM ratio: tensor(0.0316) Epoch 211: 18.161590576171875\n",
      "ADAM ratio: tensor(0.0108) Epoch 212: 18.265880584716797\n",
      "ADAM ratio: tensor(0.1855) Epoch 213: 21.287445068359375\n",
      "ADAM ratio: tensor(0.0164) Epoch 214: 22.234638214111328\n",
      "ADAM ratio: tensor(0.0367) Epoch 215: 20.329452514648438\n",
      "ADAM ratio: tensor(0.0102) Epoch 216: 19.624858856201172\n",
      "ADAM ratio: tensor(0.2021) Epoch 217: 28.618906021118164\n",
      "ADAM ratio: tensor(0.0422) Epoch 218: 41.421112060546875\n",
      "ADAM ratio: tensor(0.0009) Epoch 219: 38.41434860229492\n",
      "ADAM ratio: tensor(0.0160) Epoch 220: 45.6689567565918\n",
      "ADAM ratio: tensor(0.0032) Epoch 221: 42.91974639892578\n",
      "ADAM ratio: tensor(0.0089) Epoch 222: 32.96144104003906\n",
      "ADAM ratio: tensor(0.0064) Epoch 223: 26.052227020263672\n",
      "ADAM ratio: tensor(0.0092) Epoch 224: 25.675586700439453\n",
      "ADAM ratio: tensor(0.0048) Epoch 225: 23.799259185791016\n",
      "ADAM ratio: tensor(0.0081) Epoch 226: 22.68075180053711\n",
      "ADAM ratio: tensor(0.0072) Epoch 227: 18.914430618286133\n",
      "ADAM ratio: tensor(0.0054) Epoch 228: 17.145099639892578\n",
      "ADAM ratio: tensor(0.0120) Epoch 229: 16.498130798339844\n",
      "ADAM ratio: tensor(0.5851) Epoch 230: 42.411808013916016\n",
      "ADAM ratio: tensor(0.0093) Epoch 231: 44.37958526611328\n",
      "ADAM ratio: tensor(0.0096) Epoch 232: 33.143131256103516\n",
      "ADAM ratio: tensor(0.0045) Epoch 233: 27.365436553955078\n",
      "ADAM ratio: tensor(0.0072) Epoch 234: 22.745189666748047\n",
      "ADAM ratio: tensor(0.0540) Epoch 235: 23.657995223999023\n",
      "ADAM ratio: tensor(0.0158) Epoch 236: 18.422502517700195\n",
      "ADAM ratio: tensor(0.0121) Epoch 237: 17.186092376708984\n",
      "ADAM ratio: tensor(0.0348) Epoch 238: 16.883695602416992\n",
      "ADAM ratio: tensor(0.0650) Epoch 239: 16.818208694458008\n",
      "ADAM ratio: tensor(0.5720) Epoch 240: 27.118032455444336\n",
      "ADAM ratio: tensor(0.0088) 240\n",
      "Epoch 241: 26.300403594970703\n",
      "ADAM ratio: tensor(0.0048) Epoch 242: 23.73094940185547\n",
      "ADAM ratio: tensor(0.0083) Epoch 243: 19.517581939697266\n",
      "ADAM ratio: tensor(0.0110) Epoch 244: 17.26577377319336\n",
      "ADAM ratio: tensor(0.0554) Epoch 245: 15.512487411499023\n",
      "ADAM ratio: tensor(0.1346) Epoch 246: 16.62026596069336\n",
      "ADAM ratio: tensor(0.0183) Epoch 247: 18.097673416137695\n",
      "ADAM ratio: tensor(0.0117) Epoch 248: 19.866458892822266\n",
      "ADAM ratio: tensor(0.0069) Epoch 249: 20.978368759155273\n",
      "ADAM ratio: tensor(0.0317) Epoch 250: 27.73384666442871\n",
      "ADAM ratio: tensor(0.0032) Epoch 251: 27.110946655273438\n",
      "ADAM ratio: tensor(0.0148) Epoch 252: 26.651782989501953\n",
      "ADAM ratio: tensor(0.0034) Epoch 253: 24.92788314819336\n",
      "ADAM ratio: tensor(0.0023) Epoch 254: 24.025394439697266\n",
      "ADAM ratio: tensor(0.0039) Epoch 255: 23.105022430419922\n",
      "ADAM ratio: tensor(0.0122) Epoch 256: 19.531932830810547\n",
      "ADAM ratio: tensor(0.0162) Epoch 257: 17.418960571289062\n",
      "ADAM ratio: tensor(0.0885) Epoch 258: 21.953237533569336\n",
      "ADAM ratio: tensor(0.0021) Epoch 259: 20.087268829345703\n",
      "ADAM ratio: tensor(0.0100) Epoch 260: 18.033843994140625\n",
      "ADAM ratio: tensor(0.0275) Epoch 261: 15.745874404907227\n",
      "ADAM ratio: tensor(0.3768) Epoch 262: 18.101016998291016\n",
      "ADAM ratio: tensor(0.0198) Epoch 263: 18.065113067626953\n",
      "ADAM ratio: tensor(0.1037) Epoch 264: 17.584239959716797\n",
      "ADAM ratio: tensor(0.0177) Epoch 265: 18.694049835205078\n",
      "ADAM ratio: tensor(0.0118) Epoch 266: 18.505800247192383\n",
      "ADAM ratio: tensor(0.0159) Epoch 267: 19.812917709350586\n",
      "ADAM ratio: tensor(0.0018) Epoch 268: 19.749814987182617\n",
      "ADAM ratio: tensor(0.0040) Epoch 269: 19.262407302856445\n",
      "ADAM ratio: tensor(0.0239) Epoch 270: 21.440643310546875\n",
      "ADAM ratio: tensor(0.0264) Epoch 271: 21.074665069580078\n",
      "ADAM ratio: tensor(0.0020) Epoch 272: 20.134679794311523\n",
      "ADAM ratio: tensor(0.0076) Epoch 273: 18.86486053466797\n",
      "ADAM ratio: tensor(0.0303) Epoch 274: 16.50359535217285\n",
      "ADAM ratio: tensor(0.0341) Epoch 275: 16.734888076782227\n",
      "ADAM ratio: tensor(0.0061) Epoch 276: 15.989303588867188\n",
      "ADAM ratio: tensor(0.1589) Epoch 277: 16.014801025390625\n",
      "ADAM ratio: tensor(0.2243) Epoch 278: 24.725515365600586\n",
      "ADAM ratio: tensor(0.0022) Epoch 279: 23.78317642211914\n",
      "ADAM ratio: tensor(0.0173) Epoch 280: 22.402606964111328\n",
      "ADAM ratio: tensor(0.0495) Epoch 281: 26.90110206604004\n",
      "ADAM ratio: tensor(0.0242) Epoch 282: 19.092792510986328\n",
      "ADAM ratio: tensor(0.0307) Epoch 283: 19.635074615478516\n",
      "ADAM ratio: tensor(0.0010) Epoch 284: 18.410982131958008\n",
      "ADAM ratio: tensor(0.0181) Epoch 285: 17.44973373413086\n",
      "ADAM ratio: tensor(0.0169) Epoch 286: 16.732961654663086\n",
      "ADAM ratio: tensor(0.0303) Epoch 287: 16.2016544342041\n",
      "ADAM ratio: tensor(0.0221) Epoch 288: 16.305023193359375\n",
      "ADAM ratio: tensor(0.0272) Epoch 289: 16.355199813842773\n",
      "ADAM ratio: tensor(0.0640) Epoch 290: 17.9902400970459\n",
      "ADAM ratio: tensor(0.0291) Epoch 291: 17.15146255493164\n",
      "ADAM ratio: tensor(0.0314) Epoch 292: 17.199886322021484\n",
      "ADAM ratio: tensor(0.0343) Epoch 293: 17.199703216552734\n",
      "ADAM ratio: tensor(0.0214) Epoch 294: 16.415035247802734\n",
      "ADAM ratio: tensor(0.0029) Epoch 295: 16.374069213867188\n",
      "ADAM ratio: tensor(0.0182) Epoch 296: 15.9912748336792\n",
      "ADAM ratio: tensor(0.0288) Epoch 297: 15.533915519714355\n",
      "ADAM ratio: tensor(0.0417) Epoch 298: 15.578283309936523\n",
      "ADAM ratio: tensor(0.0370) Epoch 299: 15.505175590515137\n",
      "ADAM ratio: tensor(0.0502) Epoch 300: 15.458793640136719\n",
      "ADAM ratio: tensor(0.9850) 300\n",
      "Epoch 301: 18.122264862060547\n",
      "ADAM ratio: tensor(0.0094) Epoch 302: 17.233110427856445\n",
      "ADAM ratio: tensor(0.0293) Epoch 303: 18.170303344726562\n",
      "ADAM ratio: tensor(0.0163) Epoch 304: 19.24181365966797\n",
      "ADAM ratio: tensor(0.0703) Epoch 305: 15.567224502563477\n",
      "ADAM ratio: tensor(0.0324) Epoch 306: 15.968798637390137\n",
      "ADAM ratio: tensor(0.1118) Epoch 307: 15.448002815246582\n",
      "ADAM ratio: tensor(0.6372) Epoch 308: 16.285375595092773\n",
      "ADAM ratio: tensor(0.0146) Epoch 309: 16.41849708557129\n",
      "ADAM ratio: tensor(0.0083) Epoch 310: 16.018163681030273\n",
      "ADAM ratio: tensor(0.0232) Epoch 311: 15.56825065612793\n",
      "ADAM ratio: tensor(0.0077) Epoch 312: 15.46660327911377\n",
      "ADAM ratio: tensor(0.1378) Epoch 313: 15.666107177734375\n",
      "ADAM ratio: tensor(0.0669) Epoch 314: 15.491975784301758\n",
      "ADAM ratio: tensor(0.1170) Epoch 315: 15.390829086303711\n",
      "ADAM ratio: tensor(0.1458) Epoch 316: 15.37720775604248\n",
      "ADAM ratio: tensor(0.0285) Epoch 317: 15.370173454284668\n",
      "ADAM ratio: tensor(1.1276) Epoch 318: 15.370918273925781\n",
      "ADAM ratio: tensor(0.7675) Epoch 319: 15.405143737792969\n",
      "ADAM ratio: tensor(0.0446) Epoch 320: 15.429052352905273\n",
      "ADAM ratio: tensor(0.0525) Epoch 321: 15.446627616882324\n",
      "ADAM ratio: tensor(0.0255) Epoch 322: 15.40727424621582\n",
      "ADAM ratio: tensor(0.1414) Epoch 323: 15.616640090942383\n",
      "ADAM ratio: tensor(0.0740) Epoch 324: 15.506233215332031\n",
      "ADAM ratio: tensor(1.0702) Epoch 325: 17.44769287109375\n",
      "ADAM ratio: tensor(0.0168) Epoch 326: 17.9385986328125\n",
      "ADAM ratio: tensor(0.0106) Epoch 327: 18.183002471923828\n",
      "ADAM ratio: tensor(0.1001) Epoch 328: 23.995805740356445\n",
      "ADAM ratio: tensor(0.0224) Epoch 329: 19.373315811157227\n",
      "ADAM ratio: tensor(0.0096) Epoch 330: 19.160114288330078\n",
      "ADAM ratio: tensor(0.0075) Epoch 331: 17.78548812866211\n",
      "ADAM ratio: tensor(0.0079) Epoch 332: 17.01992416381836\n",
      "ADAM ratio: tensor(0.0287) Epoch 333: 16.22865867614746\n",
      "ADAM ratio: tensor(0.0232) Epoch 334: 15.931483268737793\n",
      "ADAM ratio: tensor(0.0824) Epoch 335: 15.520334243774414\n",
      "ADAM ratio: tensor(0.0839) Epoch 336: 16.605005264282227\n",
      "ADAM ratio: tensor(0.0149) Epoch 337: 16.6123046875\n",
      "ADAM ratio: tensor(0.0010) Epoch 338: 16.9503231048584\n",
      "ADAM ratio: tensor(0.0112) Epoch 339: 17.264131546020508\n",
      "ADAM ratio: tensor(0.0119) Epoch 340: 17.520675659179688\n",
      "ADAM ratio: tensor(0.0131) Epoch 341: 16.983469009399414\n",
      "ADAM ratio: tensor(0.0076) Epoch 342: 16.640281677246094\n",
      "ADAM ratio: tensor(0.0137) Epoch 343: 16.733352661132812\n",
      "ADAM ratio: tensor(0.0048) Epoch 344: 16.580942153930664\n",
      "ADAM ratio: tensor(0.0540) Epoch 345: 16.251117706298828\n",
      "ADAM ratio: tensor(0.1213) Epoch 346: 16.14468002319336\n",
      "ADAM ratio: tensor(0.0836) Epoch 347: 15.793353080749512\n",
      "ADAM ratio: tensor(0.0215) Epoch 348: 15.634142875671387\n",
      "ADAM ratio: tensor(0.0131) Epoch 349: 15.507743835449219\n",
      "ADAM ratio: tensor(0.1641) Epoch 350: 15.5238618850708\n",
      "ADAM ratio: tensor(0.0494) Epoch 351: 15.473820686340332\n",
      "ADAM ratio: tensor(0.0601) Epoch 352: 15.451860427856445\n",
      "ADAM ratio: tensor(0.1567) Epoch 353: 15.482107162475586\n",
      "ADAM ratio: tensor(0.1281) Epoch 354: 15.464956283569336\n",
      "ADAM ratio: tensor(0.0646) Epoch 355: 15.396142959594727\n",
      "ADAM ratio: tensor(0.2300) Epoch 356: 15.37243366241455\n",
      "ADAM ratio: tensor(0.4352) Epoch 357: 15.521388053894043\n",
      "ADAM ratio: tensor(0.1276) Epoch 358: 15.83210563659668\n",
      "ADAM ratio: tensor(0.0503) Epoch 359: 15.599771499633789\n",
      "ADAM ratio: tensor(0.0450) Epoch 360: 15.592622756958008\n",
      "ADAM ratio: tensor(0.0380) 360\n",
      "Epoch 361: 15.783862113952637\n",
      "ADAM ratio: tensor(0.0099) Epoch 362: 15.787158012390137\n",
      "ADAM ratio: tensor(0.1766) Epoch 363: 16.942277908325195\n",
      "ADAM ratio: tensor(0.0158) Epoch 364: 16.512210845947266\n",
      "ADAM ratio: tensor(0.0097) Epoch 365: 16.310007095336914\n",
      "ADAM ratio: tensor(0.0150) Epoch 366: 15.908312797546387\n",
      "ADAM ratio: tensor(0.0027) Epoch 367: 15.83946704864502\n",
      "ADAM ratio: tensor(0.0465) Epoch 368: 16.134456634521484\n",
      "ADAM ratio: tensor(0.0142) Epoch 369: 15.73084831237793\n",
      "ADAM ratio: tensor(0.0060) Epoch 370: 15.675244331359863\n",
      "ADAM ratio: tensor(0.0257) Epoch 371: 15.788586616516113\n",
      "ADAM ratio: tensor(0.0344) Epoch 372: 16.014036178588867\n",
      "ADAM ratio: tensor(0.0205) Epoch 373: 16.255199432373047\n",
      "ADAM ratio: tensor(0.0135) Epoch 374: 16.38483428955078\n",
      "ADAM ratio: tensor(0.0068) Epoch 375: 16.18983268737793\n",
      "ADAM ratio: tensor(0.0291) Epoch 376: 15.52159309387207\n",
      "ADAM ratio: tensor(0.1070) Epoch 377: 15.615676879882812\n",
      "ADAM ratio: tensor(0.1319) Epoch 378: 15.849575996398926\n",
      "ADAM ratio: tensor(0.1109) Epoch 379: 16.864046096801758\n",
      "ADAM ratio: tensor(0.0070) Epoch 380: 16.926992416381836\n",
      "ADAM ratio: tensor(0.0305) Epoch 381: 18.514305114746094\n",
      "ADAM ratio: tensor(0.0089) Epoch 382: 18.142681121826172\n",
      "ADAM ratio: tensor(0.0070) Epoch 383: 18.375301361083984\n",
      "ADAM ratio: tensor(0.0198) Epoch 384: 19.981340408325195\n",
      "ADAM ratio: tensor(0.0095) Epoch 385: 19.932050704956055\n",
      "ADAM ratio: tensor(0.0041) Epoch 386: 18.61711311340332\n",
      "ADAM ratio: tensor(0.0122) Epoch 387: 16.92648696899414\n",
      "ADAM ratio: tensor(0.0142) Epoch 388: 16.915212631225586\n",
      "ADAM ratio: tensor(0.0108) Epoch 389: 16.43846893310547\n",
      "ADAM ratio: tensor(0.0250) Epoch 390: 16.445314407348633\n",
      "ADAM ratio: tensor(0.0377) Epoch 391: 17.05805778503418\n",
      "ADAM ratio: tensor(0.0146) Epoch 392: 16.065832138061523\n",
      "ADAM ratio: tensor(0.0119) Epoch 393: 15.907730102539062\n",
      "ADAM ratio: tensor(0.0338) Epoch 394: 15.833784103393555\n",
      "ADAM ratio: tensor(0.0053) Epoch 395: 15.737709045410156\n",
      "ADAM ratio: tensor(0.0760) Epoch 396: 15.654502868652344\n",
      "ADAM ratio: tensor(0.0872) Epoch 397: 15.691723823547363\n",
      "ADAM ratio: tensor(0.1603) Epoch 398: 16.30051612854004\n",
      "ADAM ratio: tensor(0.0178) Epoch 399: 16.49578094482422\n",
      "ADAM ratio: tensor(0.0077) Epoch 400: 16.88957405090332\n",
      "ADAM ratio: tensor(0.0040) Epoch 401: 17.056180953979492\n",
      "ADAM ratio: tensor(0.0533) Epoch 402: 20.08053970336914\n",
      "ADAM ratio: tensor(0.0057) Epoch 403: 18.977951049804688\n",
      "ADAM ratio: tensor(0.0072) Epoch 404: 18.15092658996582\n",
      "ADAM ratio: tensor(0.0037) Epoch 405: 17.84876251220703\n",
      "ADAM ratio: tensor(0.0354) Epoch 406: 17.487796783447266\n",
      "ADAM ratio: tensor(0.0219) Epoch 407: 16.625078201293945\n",
      "ADAM ratio: tensor(0.0164) Epoch 408: 16.355215072631836\n",
      "ADAM ratio: tensor(0.0176) Epoch 409: 16.223838806152344\n",
      "ADAM ratio: tensor(0.0078) Epoch 410: 15.948735237121582\n",
      "ADAM ratio: tensor(0.0617) Epoch 411: 15.732165336608887\n",
      "ADAM ratio: tensor(0.0579) Epoch 412: 15.741963386535645\n",
      "ADAM ratio: tensor(0.0933) Epoch 413: 15.770963668823242\n",
      "ADAM ratio: tensor(0.0161) Epoch 414: 15.737798690795898\n",
      "ADAM ratio: tensor(0.1531) Epoch 415: 15.483619689941406\n",
      "ADAM ratio: tensor(0.0208) Epoch 416: 15.466090202331543\n",
      "ADAM ratio: tensor(0.0669) Epoch 417: 15.414896011352539\n",
      "ADAM ratio: tensor(0.0875) Epoch 418: 15.709498405456543\n",
      "ADAM ratio: tensor(0.0136) Epoch 419: 15.873072624206543\n",
      "ADAM ratio: tensor(0.0327) Epoch 420: 16.403533935546875\n",
      "ADAM ratio: tensor(0.0097) 420\n",
      "Epoch 421: 16.465778350830078\n",
      "ADAM ratio: tensor(0.0125) Epoch 422: 15.988612174987793\n",
      "ADAM ratio: tensor(0.0137) Epoch 423: 15.888400077819824\n",
      "ADAM ratio: tensor(0.0178) Epoch 424: 15.662030220031738\n",
      "ADAM ratio: tensor(0.0121) Epoch 425: 15.631341934204102\n",
      "ADAM ratio: tensor(0.0236) Epoch 426: 15.691320419311523\n",
      "ADAM ratio: tensor(0.0328) Epoch 427: 15.479426383972168\n",
      "ADAM ratio: tensor(0.4772) Epoch 428: 16.493640899658203\n",
      "ADAM ratio: tensor(0.0174) Epoch 429: 16.40310287475586\n",
      "ADAM ratio: tensor(0.0146) Epoch 430: 16.62042808532715\n",
      "ADAM ratio: tensor(0.0395) Epoch 431: 16.134504318237305\n",
      "ADAM ratio: tensor(0.0076) Epoch 432: 15.886967658996582\n",
      "ADAM ratio: tensor(0.0584) Epoch 433: 17.039461135864258\n",
      "ADAM ratio: tensor(0.0101) Epoch 434: 17.008337020874023\n",
      "ADAM ratio: tensor(0.0191) Epoch 435: 16.59760856628418\n",
      "ADAM ratio: tensor(0.0691) Epoch 436: 20.022808074951172\n",
      "ADAM ratio: tensor(0.0041) Epoch 437: 18.964130401611328\n",
      "ADAM ratio: tensor(0.0046) Epoch 438: 18.292835235595703\n",
      "ADAM ratio: tensor(0.0025) Epoch 439: 17.575965881347656\n",
      "ADAM ratio: tensor(0.0151) Epoch 440: 16.1191463470459\n",
      "ADAM ratio: tensor(0.0031) Epoch 441: 15.713595390319824\n",
      "ADAM ratio: tensor(0.0475) Epoch 442: 15.47564697265625\n",
      "ADAM ratio: tensor(0.0350) Epoch 443: 15.517705917358398\n",
      "ADAM ratio: tensor(0.0339) Epoch 444: 15.657251358032227\n",
      "ADAM ratio: tensor(0.0247) Epoch 445: 15.985445976257324\n",
      "ADAM ratio: tensor(0.0271) Epoch 446: 16.91604995727539\n",
      "ADAM ratio: tensor(0.0130) Epoch 447: 17.92667007446289\n",
      "ADAM ratio: tensor(0.0043) Epoch 448: 18.371158599853516\n",
      "ADAM ratio: tensor(0.0032) Epoch 449: 18.136810302734375\n",
      "ADAM ratio: tensor(0.0133) Epoch 450: 17.580488204956055\n",
      "ADAM ratio: tensor(0.0070) Epoch 451: 16.78532600402832\n",
      "ADAM ratio: tensor(0.0107) Epoch 452: 16.10822868347168\n",
      "ADAM ratio: tensor(0.0127) Epoch 453: 15.926892280578613\n",
      "ADAM ratio: tensor(0.0572) Epoch 454: 16.603315353393555\n",
      "ADAM ratio: tensor(0.0169) Epoch 455: 16.580368041992188\n",
      "ADAM ratio: tensor(0.0302) Epoch 456: 16.133594512939453\n",
      "ADAM ratio: tensor(0.0087) Epoch 457: 15.6146240234375\n",
      "ADAM ratio: tensor(0.0221) Epoch 458: 15.38148307800293\n",
      "ADAM ratio: tensor(0.2683) Epoch 459: 15.412877082824707\n",
      "ADAM ratio: tensor(0.2560) Epoch 460: 15.47846794128418\n",
      "ADAM ratio: tensor(0.0403) Epoch 461: 15.525251388549805\n",
      "ADAM ratio: tensor(0.1304) Epoch 462: 16.061080932617188\n",
      "ADAM ratio: tensor(0.1301) Epoch 463: 16.105846405029297\n",
      "ADAM ratio: tensor(0.0485) Epoch 464: 16.035634994506836\n",
      "ADAM ratio: tensor(0.0412) Epoch 465: 15.894254684448242\n",
      "ADAM ratio: tensor(0.0739) Epoch 466: 15.717582702636719\n",
      "ADAM ratio: tensor(0.0256) Epoch 467: 15.607694625854492\n",
      "ADAM ratio: tensor(0.0779) Epoch 468: 15.584653854370117\n",
      "ADAM ratio: tensor(0.1265) Epoch 469: 15.581457138061523\n",
      "ADAM ratio: tensor(0.0737) Epoch 470: 15.736318588256836\n",
      "ADAM ratio: tensor(0.0247) Epoch 471: 15.795453071594238\n",
      "ADAM ratio: tensor(0.0383) Epoch 472: 15.544550895690918\n",
      "ADAM ratio: tensor(0.0452) Epoch 473: 15.594324111938477\n",
      "ADAM ratio: tensor(0.0212) Epoch 474: 15.45934772491455\n",
      "ADAM ratio: tensor(0.0555) Epoch 475: 15.376121520996094\n",
      "ADAM ratio: tensor(0.1536) Epoch 476: 15.377824783325195\n",
      "ADAM ratio: tensor(0.0199) Epoch 477: 15.393838882446289\n",
      "ADAM ratio: tensor(0.0938) Epoch 478: 15.386566162109375\n",
      "ADAM ratio: tensor(0.1742) Epoch 479: 15.417500495910645\n",
      "ADAM ratio: tensor(0.0934) Epoch 480: 15.38963508605957\n",
      "ADAM ratio: tensor(0.2469) 480\n",
      "Epoch 481: 15.386998176574707\n",
      "ADAM ratio: tensor(0.0913) Epoch 482: 15.382820129394531\n",
      "ADAM ratio: tensor(0.1891) Epoch 483: 15.416023254394531\n",
      "ADAM ratio: tensor(0.1078) Epoch 484: 15.571687698364258\n",
      "ADAM ratio: tensor(0.0300) Epoch 485: 15.416387557983398\n",
      "ADAM ratio: tensor(0.1593) Epoch 486: 15.475645065307617\n",
      "ADAM ratio: tensor(0.0414) Epoch 487: 15.486488342285156\n",
      "ADAM ratio: tensor(0.2660) Epoch 488: 15.83752727508545\n",
      "ADAM ratio: tensor(0.0338) Epoch 489: 16.29575538635254\n",
      "ADAM ratio: tensor(0.0178) Epoch 490: 16.603702545166016\n",
      "ADAM ratio: tensor(0.0102) Epoch 491: 16.100082397460938\n",
      "ADAM ratio: tensor(0.0195) Epoch 492: 16.01797103881836\n",
      "ADAM ratio: tensor(0.0271) Epoch 493: 15.661209106445312\n",
      "ADAM ratio: tensor(0.0068) Epoch 494: 15.497309684753418\n",
      "ADAM ratio: tensor(0.0695) Epoch 495: 15.429872512817383\n",
      "ADAM ratio: tensor(0.0925) Epoch 496: 15.70781421661377\n",
      "ADAM ratio: tensor(0.0178) Epoch 497: 15.759379386901855\n",
      "ADAM ratio: tensor(0.0413) Epoch 498: 15.723922729492188\n",
      "ADAM ratio: tensor(0.0278) Epoch 499: 15.64344596862793\n",
      "ADAM ratio: tensor(0.0119) Epoch 500: 15.583627700805664\n",
      "ADAM ratio: tensor(0.0253) Epoch 501: 15.678308486938477\n",
      "ADAM ratio: tensor(0.0185) Epoch 502: 15.773818969726562\n",
      "ADAM ratio: tensor(0.0121) Epoch 503: 15.828962326049805\n",
      "ADAM ratio: tensor(0.0375) Epoch 504: 15.602201461791992\n",
      "ADAM ratio: tensor(0.0248) Epoch 505: 15.72236156463623\n",
      "ADAM ratio: tensor(0.0143) Epoch 506: 15.647912979125977\n",
      "ADAM ratio: tensor(0.0217) Epoch 507: 15.746564865112305\n",
      "ADAM ratio: tensor(0.0170) Epoch 508: 15.812767028808594\n",
      "ADAM ratio: tensor(0.0541) Epoch 509: 16.115171432495117\n",
      "ADAM ratio: tensor(0.0209) Epoch 510: 16.380849838256836\n",
      "ADAM ratio: tensor(0.0058) Epoch 511: 16.003488540649414\n",
      "ADAM ratio: tensor(0.0119) Epoch 512: 15.605138778686523\n",
      "ADAM ratio: tensor(0.0457) Epoch 513: 15.461774826049805\n",
      "ADAM ratio: tensor(0.0797) Epoch 514: 15.487730026245117\n",
      "ADAM ratio: tensor(0.0499) Epoch 515: 15.407171249389648\n",
      "ADAM ratio: tensor(0.0483) Epoch 516: 15.400790214538574\n",
      "ADAM ratio: tensor(0.2079) Epoch 517: 15.372871398925781\n",
      "ADAM ratio: tensor(0.1606) Epoch 518: 15.394612312316895\n",
      "ADAM ratio: tensor(0.1182) Epoch 519: 15.690083503723145\n",
      "ADAM ratio: tensor(0.0302) Epoch 520: 15.582342147827148\n",
      "ADAM ratio: tensor(0.0383) Epoch 521: 15.592147827148438\n",
      "ADAM ratio: tensor(0.0425) Epoch 522: 15.520345687866211\n",
      "ADAM ratio: tensor(0.0397) Epoch 523: 15.396514892578125\n",
      "ADAM ratio: tensor(0.0834) Epoch 524: 15.478039741516113\n",
      "ADAM ratio: tensor(0.0438) Epoch 525: 15.653088569641113\n",
      "ADAM ratio: tensor(0.0275) Epoch 526: 15.481712341308594\n",
      "ADAM ratio: tensor(0.0312) Epoch 527: 15.508891105651855\n",
      "ADAM ratio: tensor(0.0294) Epoch 528: 15.586593627929688\n",
      "ADAM ratio: tensor(0.0247) Epoch 529: 15.663250923156738\n",
      "ADAM ratio: tensor(0.0124) Epoch 530: 15.492837905883789\n",
      "ADAM ratio: tensor(0.0536) Epoch 531: 15.694539070129395\n",
      "ADAM ratio: tensor(0.0082) Epoch 532: 15.633028984069824\n",
      "ADAM ratio: tensor(0.0694) Epoch 533: 15.41368579864502\n",
      "ADAM ratio: tensor(0.0253) Epoch 534: 15.459039688110352\n",
      "ADAM ratio: tensor(0.0587) Epoch 535: 15.813383102416992\n",
      "ADAM ratio: tensor(0.0140) Epoch 536: 15.685009956359863\n",
      "ADAM ratio: tensor(0.0116) Epoch 537: 15.658498764038086\n",
      "ADAM ratio: tensor(0.0171) Epoch 538: 15.50544548034668\n",
      "ADAM ratio: tensor(0.0098) Epoch 539: 15.460352897644043\n",
      "ADAM ratio: tensor(0.2380) Epoch 540: 15.820802688598633\n",
      "ADAM ratio: tensor(0.0219) 540\n",
      "Epoch 541: 15.735394477844238\n",
      "ADAM ratio: tensor(0.0669) Epoch 542: 15.919759750366211\n",
      "ADAM ratio: tensor(0.0067) Epoch 543: 15.872734069824219\n",
      "ADAM ratio: tensor(0.0125) Epoch 544: 15.611360549926758\n",
      "ADAM ratio: tensor(0.0277) Epoch 545: 15.405138969421387\n",
      "ADAM ratio: tensor(0.1070) Epoch 546: 15.400866508483887\n",
      "ADAM ratio: tensor(0.1771) Epoch 547: 15.385340690612793\n",
      "ADAM ratio: tensor(0.2711) Epoch 548: 15.411494255065918\n",
      "ADAM ratio: tensor(0.0458) Epoch 549: 15.44702434539795\n",
      "ADAM ratio: tensor(0.0083) Epoch 550: 15.409649848937988\n",
      "ADAM ratio: tensor(0.1064) Epoch 551: 15.428812026977539\n",
      "ADAM ratio: tensor(0.1585) Epoch 552: 15.553301811218262\n",
      "ADAM ratio: tensor(0.0504) Epoch 553: 15.416603088378906\n",
      "ADAM ratio: tensor(0.1135) Epoch 554: 15.51361083984375\n",
      "ADAM ratio: tensor(0.0267) Epoch 555: 15.474499702453613\n",
      "ADAM ratio: tensor(0.0444) Epoch 556: 15.487356185913086\n",
      "ADAM ratio: tensor(0.0120) Epoch 557: 15.4732084274292\n",
      "ADAM ratio: tensor(0.0428) Epoch 558: 15.427165031433105\n",
      "ADAM ratio: tensor(0.1123) Epoch 559: 15.477872848510742\n",
      "ADAM ratio: tensor(0.0598) Epoch 560: 15.5055513381958\n",
      "ADAM ratio: tensor(0.0191) Epoch 561: 15.497576713562012\n",
      "ADAM ratio: tensor(0.0217) Epoch 562: 15.516461372375488\n",
      "ADAM ratio: tensor(0.0245) Epoch 563: 15.406904220581055\n",
      "ADAM ratio: tensor(0.0510) Epoch 564: 15.41975212097168\n",
      "ADAM ratio: tensor(0.1051) Epoch 565: 15.42536735534668\n",
      "ADAM ratio: tensor(0.0692) Epoch 566: 15.491192817687988\n",
      "ADAM ratio: tensor(0.0293) Epoch 567: 15.386800765991211\n",
      "ADAM ratio: tensor(0.0667) Epoch 568: 15.393167495727539\n",
      "ADAM ratio: tensor(0.1550) Epoch 569: 15.384150505065918\n",
      "ADAM ratio: tensor(0.1038) Epoch 570: 15.498268127441406\n",
      "ADAM ratio: tensor(0.0434) Epoch 571: 15.403371810913086\n",
      "ADAM ratio: tensor(0.1158) Epoch 572: 15.407755851745605\n",
      "ADAM ratio: tensor(0.1878) Epoch 573: 15.475013732910156\n",
      "ADAM ratio: tensor(0.0129) Epoch 574: 15.475545883178711\n",
      "ADAM ratio: tensor(0.0625) Epoch 575: 15.656387329101562\n",
      "ADAM ratio: tensor(0.0462) Epoch 576: 15.41441822052002\n",
      "ADAM ratio: tensor(0.0377) Epoch 577: 15.40992259979248\n",
      "ADAM ratio: tensor(0.1986) Epoch 578: 15.586835861206055\n",
      "ADAM ratio: tensor(0.0170) Epoch 579: 15.472501754760742\n",
      "ADAM ratio: tensor(0.0916) Epoch 580: 15.614395141601562\n",
      "ADAM ratio: tensor(0.0271) Epoch 581: 15.46711254119873\n",
      "ADAM ratio: tensor(0.0548) Epoch 582: 15.526850700378418\n",
      "ADAM ratio: tensor(0.0675) Epoch 583: 15.876119613647461\n",
      "ADAM ratio: tensor(0.0289) Epoch 584: 16.117034912109375\n",
      "ADAM ratio: tensor(0.0105) Epoch 585: 15.799273490905762\n",
      "ADAM ratio: tensor(0.0225) Epoch 586: 15.47593879699707\n",
      "ADAM ratio: tensor(0.0105) Epoch 587: 15.431190490722656\n",
      "ADAM ratio: tensor(0.0840) Epoch 588: 15.441418647766113\n",
      "ADAM ratio: tensor(0.0634) Epoch 589: 15.492998123168945\n",
      "ADAM ratio: tensor(0.0439) Epoch 590: 15.455134391784668\n",
      "ADAM ratio: tensor(0.0643) Epoch 591: 15.564175605773926\n",
      "ADAM ratio: tensor(0.0117) Epoch 592: 15.54236125946045\n",
      "ADAM ratio: tensor(0.0191) Epoch 593: 15.637537956237793\n",
      "ADAM ratio: tensor(0.0440) Epoch 594: 15.421424865722656\n",
      "ADAM ratio: tensor(0.1055) Epoch 595: 15.391050338745117\n",
      "ADAM ratio: tensor(0.1467) Epoch 596: 15.620266914367676\n",
      "ADAM ratio: tensor(0.0096) Epoch 597: 15.554742813110352\n",
      "ADAM ratio: tensor(0.0114) Epoch 598: 15.506556510925293\n",
      "ADAM ratio: tensor(0.0445) Epoch 599: 15.398149490356445\n",
      "ADAM ratio: tensor(0.1366) "
     ]
    }
   ],
   "source": [
    "filename = 'ADAM_TC_LinearRegression.html'\n",
    "n_epochs = 600\n",
    "start, bounds = torch.tensor([5.0,-6.0], requires_grad=True), 20\n",
    "opt_params = {'lr': 0.001, 'height': 1, 'width': bounds/10, 'n_epochs': n_epochs}\n",
    "metric = torch.nn.MSELoss()\n",
    "\n",
    "m = of.LinearRegression(start=start, bounds=bounds, Xdata=Xdata)\n",
    "opt = ADAM_TC(params=m.parameters(), func=m, **opt_params)\n",
    "\n",
    "losses, params = [], []\n",
    "params.append(list(m.parameters())[0].detach().clone().numpy())\n",
    "\n",
    "for i in range(n_epochs):\n",
    "    \n",
    "    opt.zero_grad()\n",
    "    ypred = m()\n",
    "    loss = metric(ypred, ydata)\n",
    "    print(f'Epoch {i}: {loss}')\n",
    "    \n",
    "    loss.backward()\n",
    "    opt.step()\n",
    "\n",
    "    losses.append(float(loss))\n",
    "    params.append(list(m.parameters())[0].detach().clone().numpy())\n",
    "    \n",
    "    if i % (n_epochs//10) == 0: print(i)\n",
    "\n",
    "params = [list(_) for _ in list(zip(*params))]\n"
   ]
  },
  {
   "cell_type": "code",
   "execution_count": 37,
   "metadata": {},
   "outputs": [
    {
     "name": "stdout",
     "output_type": "stream",
     "text": [
      "Epoch 0: 212.0286102294922\n",
      "0\n",
      "Epoch 1: 150.38243103027344\n",
      "Epoch 2: 110.27364349365234\n",
      "Epoch 3: 89.3809814453125\n",
      "Epoch 4: 81.21058654785156\n",
      "Epoch 5: 76.57160186767578\n",
      "Epoch 6: 69.29267120361328\n",
      "Epoch 7: 58.40891647338867\n",
      "Epoch 8: 45.770809173583984\n",
      "Epoch 9: 33.78730010986328\n",
      "Epoch 10: 24.399633407592773\n",
      "Epoch 11: 18.67844009399414\n",
      "Epoch 12: 16.67998504638672\n",
      "Epoch 13: 17.530141830444336\n",
      "Epoch 14: 19.799087524414062\n",
      "Epoch 15: 22.079830169677734\n",
      "Epoch 16: 23.48187255859375\n",
      "Epoch 17: 23.796977996826172\n",
      "Epoch 18: 23.34785270690918\n",
      "Epoch 19: 22.691585540771484\n",
      "Epoch 20: 22.331806182861328\n",
      "Epoch 21: 22.520763397216797\n",
      "Epoch 22: 23.186594009399414\n",
      "Epoch 23: 23.99410057067871\n",
      "Epoch 24: 24.510087966918945\n",
      "Epoch 25: 24.398942947387695\n",
      "Epoch 26: 23.558603286743164\n",
      "Epoch 27: 22.143091201782227\n",
      "Epoch 28: 20.479232788085938\n",
      "Epoch 29: 18.9288330078125\n",
      "Epoch 30: 17.75737762451172\n",
      "Epoch 31: 17.0570011138916\n",
      "Epoch 32: 16.746591567993164\n",
      "Epoch 33: 16.640710830688477\n",
      "Epoch 34: 16.55031967163086\n",
      "Epoch 35: 16.366636276245117\n",
      "Epoch 36: 16.092876434326172\n",
      "Epoch 37: 15.818212509155273\n",
      "Epoch 38: 15.655468940734863\n",
      "Epoch 39: 15.67639446258545\n",
      "Epoch 40: 15.874269485473633\n",
      "Epoch 41: 16.16822052001953\n",
      "Epoch 42: 16.443052291870117\n",
      "Epoch 43: 16.602018356323242\n",
      "Epoch 44: 16.605602264404297\n",
      "Epoch 45: 16.479278564453125\n",
      "Epoch 46: 16.29073715209961\n",
      "Epoch 47: 16.111865997314453\n",
      "Epoch 48: 15.985725402832031\n",
      "Epoch 49: 15.913583755493164\n",
      "Epoch 50: 15.865191459655762\n",
      "Epoch 51: 15.803497314453125\n",
      "Epoch 52: 15.708697319030762\n",
      "Epoch 53: 15.58886432647705\n",
      "Epoch 54: 15.473272323608398\n",
      "Epoch 55: 15.394441604614258\n",
      "Epoch 56: 15.370107650756836\n",
      "Epoch 57: 15.394922256469727\n",
      "Epoch 58: 15.445246696472168\n",
      "Epoch 59: 15.492788314819336\n",
      "Epoch 60: 15.518649101257324\n",
      "60\n",
      "Epoch 61: 15.52015209197998\n",
      "Epoch 62: 15.507865905761719\n",
      "Epoch 63: 15.496133804321289\n",
      "Epoch 64: 15.493461608886719\n",
      "Epoch 65: 15.498309135437012\n",
      "Epoch 66: 15.501782417297363\n",
      "Epoch 67: 15.494603157043457\n",
      "Epoch 68: 15.473442077636719\n",
      "Epoch 69: 15.442895889282227\n",
      "Epoch 70: 15.412419319152832\n",
      "Epoch 71: 15.390701293945312\n",
      "Epoch 72: 15.381205558776855\n",
      "Epoch 73: 15.38129997253418\n",
      "Epoch 74: 15.384992599487305\n",
      "Epoch 75: 15.387051582336426\n",
      "Epoch 76: 15.385820388793945\n",
      "Epoch 77: 15.383206367492676\n",
      "Epoch 78: 15.382412910461426\n",
      "Epoch 79: 15.385213851928711\n",
      "Epoch 80: 15.390657424926758\n",
      "Epoch 81: 15.39580249786377\n",
      "Epoch 82: 15.397756576538086\n",
      "Epoch 83: 15.395484924316406\n",
      "Epoch 84: 15.390207290649414\n",
      "Epoch 85: 15.384370803833008\n",
      "Epoch 86: 15.380027770996094\n",
      "Epoch 87: 15.377772331237793\n",
      "Epoch 88: 15.3767728805542\n",
      "Epoch 89: 15.375753402709961\n",
      "Epoch 90: 15.374044418334961\n",
      "Epoch 91: 15.371976852416992\n",
      "Epoch 92: 15.37048625946045\n",
      "Epoch 93: 15.37031078338623\n",
      "Epoch 94: 15.371434211730957\n",
      "Epoch 95: 15.373117446899414\n",
      "Epoch 96: 15.374418258666992\n",
      "Epoch 97: 15.37480354309082\n",
      "Epoch 98: 15.374371528625488\n",
      "Epoch 99: 15.373637199401855\n",
      "Epoch 100: 15.373092651367188\n",
      "Epoch 101: 15.372856140136719\n",
      "Epoch 102: 15.372706413269043\n",
      "Epoch 103: 15.372339248657227\n",
      "Epoch 104: 15.371641159057617\n",
      "Epoch 105: 15.370796203613281\n",
      "Epoch 106: 15.370137214660645\n",
      "Epoch 107: 15.36987018585205\n",
      "Epoch 108: 15.36998462677002\n",
      "Epoch 109: 15.370265007019043\n",
      "Epoch 110: 15.370475769042969\n",
      "Epoch 111: 15.37053108215332\n",
      "Epoch 112: 15.3704833984375\n",
      "Epoch 113: 15.370460510253906\n",
      "Epoch 114: 15.370518684387207\n",
      "Epoch 115: 15.370623588562012\n",
      "Epoch 116: 15.370664596557617\n",
      "Epoch 117: 15.370577812194824\n",
      "Epoch 118: 15.370376586914062\n",
      "Epoch 119: 15.370153427124023\n",
      "Epoch 120: 15.3699951171875\n",
      "120\n",
      "Epoch 121: 15.369938850402832\n",
      "Epoch 122: 15.3699369430542\n",
      "Epoch 123: 15.369941711425781\n",
      "Epoch 124: 15.36992073059082\n",
      "Epoch 125: 15.369888305664062\n",
      "Epoch 126: 15.369877815246582\n",
      "Epoch 127: 15.369908332824707\n",
      "Epoch 128: 15.369964599609375\n",
      "Epoch 129: 15.370010375976562\n",
      "Epoch 130: 15.370018005371094\n",
      "Epoch 131: 15.369989395141602\n",
      "Epoch 132: 15.36994457244873\n",
      "Epoch 133: 15.369911193847656\n",
      "Epoch 134: 15.369895935058594\n",
      "Epoch 135: 15.36988639831543\n",
      "Epoch 136: 15.369873046875\n",
      "Epoch 137: 15.369852066040039\n",
      "Epoch 138: 15.369830131530762\n",
      "Epoch 139: 15.369819641113281\n",
      "Epoch 140: 15.369827270507812\n",
      "Epoch 141: 15.369840621948242\n",
      "Epoch 142: 15.369853019714355\n",
      "Epoch 143: 15.36985969543457\n",
      "Epoch 144: 15.369854927062988\n",
      "Epoch 145: 15.369848251342773\n",
      "Epoch 146: 15.369848251342773\n",
      "Epoch 147: 15.369847297668457\n",
      "Epoch 148: 15.369847297668457\n",
      "Epoch 149: 15.369839668273926\n",
      "Epoch 150: 15.369830131530762\n",
      "Epoch 151: 15.369824409484863\n",
      "Epoch 152: 15.369821548461914\n",
      "Epoch 153: 15.36982250213623\n",
      "Epoch 154: 15.369824409484863\n",
      "Epoch 155: 15.36982536315918\n",
      "Epoch 156: 15.369821548461914\n",
      "Epoch 157: 15.369824409484863\n",
      "Epoch 158: 15.36982536315918\n",
      "Epoch 159: 15.36982536315918\n",
      "Epoch 160: 15.369829177856445\n",
      "Epoch 161: 15.369824409484863\n",
      "Epoch 162: 15.369824409484863\n",
      "Epoch 163: 15.36982250213623\n",
      "Epoch 164: 15.369821548461914\n",
      "Epoch 165: 15.36982250213623\n",
      "Epoch 166: 15.369819641113281\n",
      "Epoch 167: 15.369819641113281\n",
      "Epoch 168: 15.369821548461914\n",
      "Epoch 169: 15.369816780090332\n",
      "Epoch 170: 15.369819641113281\n",
      "Epoch 171: 15.369819641113281\n",
      "Epoch 172: 15.369819641113281\n",
      "Epoch 173: 15.36982250213623\n",
      "Epoch 174: 15.369819641113281\n",
      "Epoch 175: 15.369821548461914\n",
      "Epoch 176: 15.369821548461914\n",
      "Epoch 177: 15.369819641113281\n",
      "Epoch 178: 15.369817733764648\n",
      "Epoch 179: 15.369819641113281\n",
      "Epoch 180: 15.369819641113281\n",
      "180\n",
      "Epoch 181: 15.369817733764648\n",
      "Epoch 182: 15.369817733764648\n",
      "Epoch 183: 15.369816780090332\n",
      "Epoch 184: 15.369819641113281\n",
      "Epoch 185: 15.369816780090332\n",
      "Epoch 186: 15.369817733764648\n",
      "Epoch 187: 15.369817733764648\n",
      "Epoch 188: 15.369817733764648\n",
      "Epoch 189: 15.369819641113281\n",
      "Epoch 190: 15.369817733764648\n",
      "Epoch 191: 15.369817733764648\n",
      "Epoch 192: 15.369817733764648\n",
      "Epoch 193: 15.369819641113281\n",
      "Epoch 194: 15.369817733764648\n",
      "Epoch 195: 15.369821548461914\n",
      "Epoch 196: 15.369819641113281\n",
      "Epoch 197: 15.369817733764648\n",
      "Epoch 198: 15.369817733764648\n",
      "Epoch 199: 15.369817733764648\n",
      "Epoch 200: 15.369816780090332\n",
      "Epoch 201: 15.369819641113281\n",
      "Epoch 202: 15.369819641113281\n",
      "Epoch 203: 15.369819641113281\n",
      "Epoch 204: 15.369821548461914\n",
      "Epoch 205: 15.369816780090332\n",
      "Epoch 206: 15.369819641113281\n",
      "Epoch 207: 15.369819641113281\n",
      "Epoch 208: 15.369817733764648\n",
      "Epoch 209: 15.369817733764648\n",
      "Epoch 210: 15.369819641113281\n",
      "Epoch 211: 15.369821548461914\n",
      "Epoch 212: 15.369819641113281\n",
      "Epoch 213: 15.369819641113281\n",
      "Epoch 214: 15.369817733764648\n",
      "Epoch 215: 15.369819641113281\n",
      "Epoch 216: 15.369819641113281\n",
      "Epoch 217: 15.369817733764648\n",
      "Epoch 218: 15.369819641113281\n",
      "Epoch 219: 15.369817733764648\n",
      "Epoch 220: 15.369819641113281\n",
      "Epoch 221: 15.369817733764648\n",
      "Epoch 222: 15.369817733764648\n",
      "Epoch 223: 15.369817733764648\n",
      "Epoch 224: 15.369817733764648\n",
      "Epoch 225: 15.369817733764648\n",
      "Epoch 226: 15.369816780090332\n",
      "Epoch 227: 15.369816780090332\n",
      "Epoch 228: 15.369817733764648\n",
      "Epoch 229: 15.369819641113281\n",
      "Epoch 230: 15.369817733764648\n",
      "Epoch 231: 15.369819641113281\n",
      "Epoch 232: 15.369816780090332\n",
      "Epoch 233: 15.369817733764648\n",
      "Epoch 234: 15.369816780090332\n",
      "Epoch 235: 15.369819641113281\n",
      "Epoch 236: 15.369817733764648\n",
      "Epoch 237: 15.369817733764648\n",
      "Epoch 238: 15.369816780090332\n",
      "Epoch 239: 15.369819641113281\n",
      "Epoch 240: 15.369817733764648\n",
      "240\n",
      "Epoch 241: 15.369816780090332\n",
      "Epoch 242: 15.369816780090332\n",
      "Epoch 243: 15.369819641113281\n",
      "Epoch 244: 15.369817733764648\n",
      "Epoch 245: 15.369819641113281\n",
      "Epoch 246: 15.369817733764648\n",
      "Epoch 247: 15.369817733764648\n",
      "Epoch 248: 15.369817733764648\n",
      "Epoch 249: 15.369821548461914\n",
      "Epoch 250: 15.369817733764648\n",
      "Epoch 251: 15.369817733764648\n",
      "Epoch 252: 15.369819641113281\n",
      "Epoch 253: 15.369819641113281\n",
      "Epoch 254: 15.369819641113281\n",
      "Epoch 255: 15.369817733764648\n",
      "Epoch 256: 15.369819641113281\n",
      "Epoch 257: 15.369816780090332\n",
      "Epoch 258: 15.369821548461914\n",
      "Epoch 259: 15.369817733764648\n",
      "Epoch 260: 15.369819641113281\n",
      "Epoch 261: 15.369821548461914\n",
      "Epoch 262: 15.369819641113281\n",
      "Epoch 263: 15.369819641113281\n",
      "Epoch 264: 15.369819641113281\n",
      "Epoch 265: 15.369821548461914\n",
      "Epoch 266: 15.369819641113281\n",
      "Epoch 267: 15.369817733764648\n",
      "Epoch 268: 15.369819641113281\n",
      "Epoch 269: 15.369819641113281\n",
      "Epoch 270: 15.369817733764648\n",
      "Epoch 271: 15.369816780090332\n",
      "Epoch 272: 15.369816780090332\n",
      "Epoch 273: 15.369817733764648\n",
      "Epoch 274: 15.369819641113281\n",
      "Epoch 275: 15.369819641113281\n",
      "Epoch 276: 15.369821548461914\n",
      "Epoch 277: 15.369817733764648\n",
      "Epoch 278: 15.369817733764648\n",
      "Epoch 279: 15.369819641113281\n",
      "Epoch 280: 15.369819641113281\n",
      "Epoch 281: 15.369816780090332\n",
      "Epoch 282: 15.369819641113281\n",
      "Epoch 283: 15.369817733764648\n",
      "Epoch 284: 15.369817733764648\n",
      "Epoch 285: 15.369821548461914\n",
      "Epoch 286: 15.369821548461914\n",
      "Epoch 287: 15.369819641113281\n",
      "Epoch 288: 15.369821548461914\n",
      "Epoch 289: 15.369819641113281\n",
      "Epoch 290: 15.369819641113281\n",
      "Epoch 291: 15.369817733764648\n",
      "Epoch 292: 15.369819641113281\n",
      "Epoch 293: 15.369819641113281\n",
      "Epoch 294: 15.369817733764648\n",
      "Epoch 295: 15.369821548461914\n",
      "Epoch 296: 15.369819641113281\n",
      "Epoch 297: 15.369817733764648\n",
      "Epoch 298: 15.369819641113281\n",
      "Epoch 299: 15.369817733764648\n",
      "Epoch 300: 15.369816780090332\n",
      "300\n",
      "Epoch 301: 15.369817733764648\n",
      "Epoch 302: 15.369817733764648\n",
      "Epoch 303: 15.369817733764648\n",
      "Epoch 304: 15.369817733764648\n",
      "Epoch 305: 15.369817733764648\n",
      "Epoch 306: 15.369817733764648\n",
      "Epoch 307: 15.369816780090332\n",
      "Epoch 308: 15.369819641113281\n",
      "Epoch 309: 15.369821548461914\n",
      "Epoch 310: 15.369821548461914\n",
      "Epoch 311: 15.369821548461914\n",
      "Epoch 312: 15.369821548461914\n",
      "Epoch 313: 15.369817733764648\n",
      "Epoch 314: 15.369819641113281\n",
      "Epoch 315: 15.369819641113281\n",
      "Epoch 316: 15.369819641113281\n",
      "Epoch 317: 15.369817733764648\n",
      "Epoch 318: 15.369821548461914\n",
      "Epoch 319: 15.369821548461914\n",
      "Epoch 320: 15.369821548461914\n",
      "Epoch 321: 15.369817733764648\n",
      "Epoch 322: 15.369819641113281\n",
      "Epoch 323: 15.369817733764648\n",
      "Epoch 324: 15.369816780090332\n",
      "Epoch 325: 15.369816780090332\n",
      "Epoch 326: 15.369821548461914\n",
      "Epoch 327: 15.369817733764648\n",
      "Epoch 328: 15.369817733764648\n",
      "Epoch 329: 15.369821548461914\n",
      "Epoch 330: 15.369816780090332\n",
      "Epoch 331: 15.369816780090332\n",
      "Epoch 332: 15.369816780090332\n",
      "Epoch 333: 15.369816780090332\n",
      "Epoch 334: 15.369816780090332\n",
      "Epoch 335: 15.369821548461914\n",
      "Epoch 336: 15.369817733764648\n",
      "Epoch 337: 15.369817733764648\n",
      "Epoch 338: 15.369821548461914\n",
      "Epoch 339: 15.369816780090332\n",
      "Epoch 340: 15.369816780090332\n",
      "Epoch 341: 15.369816780090332\n",
      "Epoch 342: 15.369816780090332\n",
      "Epoch 343: 15.369816780090332\n",
      "Epoch 344: 15.369821548461914\n",
      "Epoch 345: 15.369817733764648\n",
      "Epoch 346: 15.369817733764648\n",
      "Epoch 347: 15.369819641113281\n",
      "Epoch 348: 15.369819641113281\n",
      "Epoch 349: 15.369819641113281\n",
      "Epoch 350: 15.369819641113281\n",
      "Epoch 351: 15.369819641113281\n",
      "Epoch 352: 15.369819641113281\n",
      "Epoch 353: 15.369819641113281\n",
      "Epoch 354: 15.369819641113281\n",
      "Epoch 355: 15.369819641113281\n",
      "Epoch 356: 15.369819641113281\n",
      "Epoch 357: 15.369819641113281\n",
      "Epoch 358: 15.369819641113281\n",
      "Epoch 359: 15.369819641113281\n",
      "Epoch 360: 15.369819641113281\n",
      "360\n",
      "Epoch 361: 15.369819641113281\n",
      "Epoch 362: 15.369819641113281\n",
      "Epoch 363: 15.369819641113281\n",
      "Epoch 364: 15.369819641113281\n",
      "Epoch 365: 15.369819641113281\n",
      "Epoch 366: 15.369819641113281\n",
      "Epoch 367: 15.369819641113281\n",
      "Epoch 368: 15.369819641113281\n",
      "Epoch 369: 15.369819641113281\n",
      "Epoch 370: 15.369819641113281\n",
      "Epoch 371: 15.369819641113281\n",
      "Epoch 372: 15.369819641113281\n",
      "Epoch 373: 15.369819641113281\n",
      "Epoch 374: 15.369819641113281\n",
      "Epoch 375: 15.369819641113281\n",
      "Epoch 376: 15.369819641113281\n",
      "Epoch 377: 15.369819641113281\n",
      "Epoch 378: 15.369819641113281\n",
      "Epoch 379: 15.369819641113281\n",
      "Epoch 380: 15.369819641113281\n",
      "Epoch 381: 15.369819641113281\n",
      "Epoch 382: 15.369819641113281\n",
      "Epoch 383: 15.369819641113281\n",
      "Epoch 384: 15.369819641113281\n",
      "Epoch 385: 15.369819641113281\n",
      "Epoch 386: 15.369819641113281\n",
      "Epoch 387: 15.369819641113281\n",
      "Epoch 388: 15.369819641113281\n",
      "Epoch 389: 15.369819641113281\n",
      "Epoch 390: 15.369819641113281\n",
      "Epoch 391: 15.369819641113281\n",
      "Epoch 392: 15.369819641113281\n",
      "Epoch 393: 15.369819641113281\n",
      "Epoch 394: 15.369819641113281\n",
      "Epoch 395: 15.369819641113281\n",
      "Epoch 396: 15.369819641113281\n",
      "Epoch 397: 15.369819641113281\n",
      "Epoch 398: 15.369819641113281\n",
      "Epoch 399: 15.369819641113281\n",
      "Epoch 400: 15.369819641113281\n",
      "Epoch 401: 15.369819641113281\n",
      "Epoch 402: 15.369819641113281\n",
      "Epoch 403: 15.369819641113281\n",
      "Epoch 404: 15.369819641113281\n",
      "Epoch 405: 15.369819641113281\n",
      "Epoch 406: 15.369819641113281\n",
      "Epoch 407: 15.369819641113281\n",
      "Epoch 408: 15.369819641113281\n",
      "Epoch 409: 15.369819641113281\n",
      "Epoch 410: 15.369819641113281\n",
      "Epoch 411: 15.369819641113281\n",
      "Epoch 412: 15.369819641113281\n",
      "Epoch 413: 15.369819641113281\n",
      "Epoch 414: 15.369819641113281\n",
      "Epoch 415: 15.369819641113281\n",
      "Epoch 416: 15.369819641113281\n",
      "Epoch 417: 15.369819641113281\n",
      "Epoch 418: 15.369819641113281\n",
      "Epoch 419: 15.369819641113281\n",
      "Epoch 420: 15.369819641113281\n",
      "420\n",
      "Epoch 421: 15.369819641113281\n",
      "Epoch 422: 15.369819641113281\n",
      "Epoch 423: 15.369819641113281\n",
      "Epoch 424: 15.369819641113281\n",
      "Epoch 425: 15.369819641113281\n",
      "Epoch 426: 15.369819641113281\n",
      "Epoch 427: 15.369819641113281\n",
      "Epoch 428: 15.369819641113281\n",
      "Epoch 429: 15.369819641113281\n",
      "Epoch 430: 15.369819641113281\n",
      "Epoch 431: 15.369819641113281\n",
      "Epoch 432: 15.369819641113281\n",
      "Epoch 433: 15.369819641113281\n",
      "Epoch 434: 15.369819641113281\n",
      "Epoch 435: 15.369819641113281\n",
      "Epoch 436: 15.369819641113281\n",
      "Epoch 437: 15.369819641113281\n",
      "Epoch 438: 15.369819641113281\n",
      "Epoch 439: 15.369819641113281\n",
      "Epoch 440: 15.369819641113281\n",
      "Epoch 441: 15.369819641113281\n",
      "Epoch 442: 15.369819641113281\n",
      "Epoch 443: 15.369819641113281\n",
      "Epoch 444: 15.369819641113281\n",
      "Epoch 445: 15.369819641113281\n",
      "Epoch 446: 15.369819641113281\n",
      "Epoch 447: 15.369819641113281\n",
      "Epoch 448: 15.369819641113281\n",
      "Epoch 449: 15.369819641113281\n",
      "Epoch 450: 15.369819641113281\n",
      "Epoch 451: 15.369819641113281\n",
      "Epoch 452: 15.369819641113281\n",
      "Epoch 453: 15.369819641113281\n",
      "Epoch 454: 15.369819641113281\n",
      "Epoch 455: 15.369819641113281\n",
      "Epoch 456: 15.369819641113281\n",
      "Epoch 457: 15.369819641113281\n",
      "Epoch 458: 15.369819641113281\n",
      "Epoch 459: 15.369819641113281\n",
      "Epoch 460: 15.369819641113281\n",
      "Epoch 461: 15.369819641113281\n",
      "Epoch 462: 15.369819641113281\n",
      "Epoch 463: 15.369819641113281\n",
      "Epoch 464: 15.369819641113281\n",
      "Epoch 465: 15.369819641113281\n",
      "Epoch 466: 15.369819641113281\n",
      "Epoch 467: 15.369819641113281\n",
      "Epoch 468: 15.369819641113281\n",
      "Epoch 469: 15.369819641113281\n",
      "Epoch 470: 15.369819641113281\n",
      "Epoch 471: 15.369819641113281\n",
      "Epoch 472: 15.369819641113281\n",
      "Epoch 473: 15.369819641113281\n",
      "Epoch 474: 15.369819641113281\n",
      "Epoch 475: 15.369819641113281\n",
      "Epoch 476: 15.369819641113281\n",
      "Epoch 477: 15.369819641113281\n",
      "Epoch 478: 15.369819641113281\n",
      "Epoch 479: 15.369819641113281\n",
      "Epoch 480: 15.369819641113281\n",
      "480\n",
      "Epoch 481: 15.369819641113281\n",
      "Epoch 482: 15.369819641113281\n",
      "Epoch 483: 15.369819641113281\n",
      "Epoch 484: 15.369819641113281\n",
      "Epoch 485: 15.369819641113281\n",
      "Epoch 486: 15.369819641113281\n",
      "Epoch 487: 15.369819641113281\n",
      "Epoch 488: 15.369819641113281\n",
      "Epoch 489: 15.369819641113281\n",
      "Epoch 490: 15.369819641113281\n",
      "Epoch 491: 15.369819641113281\n",
      "Epoch 492: 15.369819641113281\n",
      "Epoch 493: 15.369819641113281\n",
      "Epoch 494: 15.369819641113281\n",
      "Epoch 495: 15.369819641113281\n",
      "Epoch 496: 15.369819641113281\n",
      "Epoch 497: 15.369819641113281\n",
      "Epoch 498: 15.369819641113281\n",
      "Epoch 499: 15.369819641113281\n",
      "Epoch 500: 15.369819641113281\n",
      "Epoch 501: 15.369819641113281\n",
      "Epoch 502: 15.369819641113281\n",
      "Epoch 503: 15.369819641113281\n",
      "Epoch 504: 15.369819641113281\n",
      "Epoch 505: 15.369819641113281\n",
      "Epoch 506: 15.369819641113281\n",
      "Epoch 507: 15.369819641113281\n",
      "Epoch 508: 15.369819641113281\n",
      "Epoch 509: 15.369819641113281\n",
      "Epoch 510: 15.369819641113281\n",
      "Epoch 511: 15.369819641113281\n",
      "Epoch 512: 15.369819641113281\n",
      "Epoch 513: 15.369819641113281\n",
      "Epoch 514: 15.369819641113281\n",
      "Epoch 515: 15.369819641113281\n",
      "Epoch 516: 15.369819641113281\n",
      "Epoch 517: 15.369819641113281\n",
      "Epoch 518: 15.369819641113281\n",
      "Epoch 519: 15.369819641113281\n",
      "Epoch 520: 15.369819641113281\n",
      "Epoch 521: 15.369819641113281\n",
      "Epoch 522: 15.369819641113281\n",
      "Epoch 523: 15.369819641113281\n",
      "Epoch 524: 15.369819641113281\n",
      "Epoch 525: 15.369819641113281\n",
      "Epoch 526: 15.369819641113281\n",
      "Epoch 527: 15.369819641113281\n",
      "Epoch 528: 15.369819641113281\n",
      "Epoch 529: 15.369819641113281\n",
      "Epoch 530: 15.369819641113281\n",
      "Epoch 531: 15.369819641113281\n",
      "Epoch 532: 15.369819641113281\n",
      "Epoch 533: 15.369819641113281\n",
      "Epoch 534: 15.369819641113281\n",
      "Epoch 535: 15.369819641113281\n",
      "Epoch 536: 15.369819641113281\n",
      "Epoch 537: 15.369819641113281\n",
      "Epoch 538: 15.369819641113281\n",
      "Epoch 539: 15.369819641113281\n",
      "Epoch 540: 15.369819641113281\n",
      "540\n",
      "Epoch 541: 15.369819641113281\n",
      "Epoch 542: 15.369819641113281\n",
      "Epoch 543: 15.369819641113281\n",
      "Epoch 544: 15.369819641113281\n",
      "Epoch 545: 15.369819641113281\n",
      "Epoch 546: 15.369819641113281\n",
      "Epoch 547: 15.369819641113281\n",
      "Epoch 548: 15.369819641113281\n",
      "Epoch 549: 15.369819641113281\n",
      "Epoch 550: 15.369819641113281\n",
      "Epoch 551: 15.369819641113281\n",
      "Epoch 552: 15.369819641113281\n",
      "Epoch 553: 15.369819641113281\n",
      "Epoch 554: 15.369819641113281\n",
      "Epoch 555: 15.369819641113281\n",
      "Epoch 556: 15.369819641113281\n",
      "Epoch 557: 15.369819641113281\n",
      "Epoch 558: 15.369819641113281\n",
      "Epoch 559: 15.369819641113281\n",
      "Epoch 560: 15.369819641113281\n",
      "Epoch 561: 15.369819641113281\n",
      "Epoch 562: 15.369819641113281\n",
      "Epoch 563: 15.369819641113281\n",
      "Epoch 564: 15.369819641113281\n",
      "Epoch 565: 15.369819641113281\n",
      "Epoch 566: 15.369819641113281\n",
      "Epoch 567: 15.369819641113281\n",
      "Epoch 568: 15.369819641113281\n",
      "Epoch 569: 15.369819641113281\n",
      "Epoch 570: 15.369819641113281\n",
      "Epoch 571: 15.369819641113281\n",
      "Epoch 572: 15.369819641113281\n",
      "Epoch 573: 15.369819641113281\n",
      "Epoch 574: 15.369819641113281\n",
      "Epoch 575: 15.369819641113281\n",
      "Epoch 576: 15.369819641113281\n",
      "Epoch 577: 15.369819641113281\n",
      "Epoch 578: 15.369819641113281\n",
      "Epoch 579: 15.369819641113281\n",
      "Epoch 580: 15.369819641113281\n",
      "Epoch 581: 15.369819641113281\n",
      "Epoch 582: 15.369819641113281\n",
      "Epoch 583: 15.369819641113281\n",
      "Epoch 584: 15.369819641113281\n",
      "Epoch 585: 15.369819641113281\n",
      "Epoch 586: 15.369819641113281\n",
      "Epoch 587: 15.369819641113281\n",
      "Epoch 588: 15.369819641113281\n",
      "Epoch 589: 15.369819641113281\n",
      "Epoch 590: 15.369819641113281\n",
      "Epoch 591: 15.369819641113281\n",
      "Epoch 592: 15.369819641113281\n",
      "Epoch 593: 15.369819641113281\n",
      "Epoch 594: 15.369819641113281\n",
      "Epoch 595: 15.369819641113281\n",
      "Epoch 596: 15.369819641113281\n",
      "Epoch 597: 15.369819641113281\n",
      "Epoch 598: 15.369819641113281\n",
      "Epoch 599: 15.369819641113281\n"
     ]
    }
   ],
   "source": [
    "filename = 'ADAM_LinearRegression.html'\n",
    "n_epochs = 600\n",
    "start, bounds = torch.tensor([5.0,-6.0], requires_grad=True), 20\n",
    "opt_params = {'lr': 1}\n",
    "metric = torch.nn.MSELoss()\n",
    "\n",
    "m = of.LinearRegression(start=start, bounds=bounds, Xdata=Xdata)\n",
    "opt = torch.optim.Adam(params=m.parameters(), **opt_params)\n",
    "\n",
    "losses, params = [], []\n",
    "params.append(list(m.parameters())[0].detach().clone().numpy())\n",
    "\n",
    "for i in range(n_epochs):\n",
    "    \n",
    "    opt.zero_grad()\n",
    "    ypred = m()\n",
    "    loss = metric(ypred, ydata)\n",
    "    print(f'Epoch {i}: {loss}')\n",
    "    \n",
    "    loss.backward()\n",
    "    opt.step()\n",
    "\n",
    "    losses.append(float(loss))\n",
    "    params.append(list(m.parameters())[0].detach().clone().numpy())\n",
    "    \n",
    "    if i % (n_epochs//10) == 0: print(i)\n",
    "\n",
    "params = [list(_) for _ in list(zip(*params))]\n"
   ]
  },
  {
   "cell_type": "code",
   "execution_count": 49,
   "metadata": {},
   "outputs": [],
   "source": [
    "def calc_contours(Z, divisions):\n",
    "    m, M = np.min(Z), np.max(Z)\n",
    "    size = (M - m)/divisions\n",
    "    contours = dict(start=m, end=M, size=size)\n",
    "    return contours\n",
    "\n",
    "fig1 = make_subplots(rows=1,cols=2)\n",
    "xlim, ylim, res = (-bounds, bounds), (-bounds, bounds), 0.1\n",
    "\n",
    "X = np.arange(xlim[0], xlim[1], res)\n",
    "Y = np.arange(ylim[0], ylim[1], res)\n",
    "grid = [np.array(_) for _ in itertools.product(X,Y)]\n",
    "Z = [m.forward(torch.Tensor(_)) for _ in grid]\n",
    "Z = [metric(ypred, ydata) for ypred in Z]\n",
    "Z = np.array(Z).reshape(len(X), len(Y)).T\n",
    "gminimum_est = grid[np.argmin(Z)]\n",
    "\n",
    "fig1.add_trace(go.Scatter(x=np.arange(len(losses)), y=losses), row=1, col=1)\n",
    "fig1.add_trace(\n",
    "    go.Contour(x=X, y=Y, z=Z, contours=calc_contours(Z, 50)),\n",
    "    row=1, col=2,\n",
    ")\n",
    "fig1.add_trace(\n",
    "    go.Scatter(x=params[0], \n",
    "               y=params[1],\n",
    "               text=list(zip(losses, list(np.arange(0, len(losses)))))),\n",
    "    row=1, col=2\n",
    ")\n",
    "fig1.add_trace(\n",
    "    go.Scatter(x=[mtrue], y=[btrue], mode='markers',\n",
    "               marker=dict(symbol='star', opacity=0.5, size=20, color='gold')),\n",
    "    row=1, col=2\n",
    ")\n",
    "fig1.add_trace(\n",
    "    go.Scatter(x=[gminimum_est[1]], y=[gminimum_est[0]], mode='markers',\n",
    "               marker=dict(symbol='star', opacity=0.8, size=20, color='black')),\n",
    "    row=1, col=2\n",
    ")\n",
    "title = 'ADAM/SGD' if not hasattr(opt, 'record') else str(opt.record)\n",
    "title = title + str(list(m.parameters()))\n",
    "\n",
    "fig1.update_layout(\n",
    "    autosize=False,\n",
    "    width=1600,\n",
    "    height=800,\n",
    "    title=title\n",
    ")\n",
    "X_in = Xdata.reshape(1,-1).squeeze()\n",
    "y_in = ydata.reshape(1,-1).squeeze()\n",
    "y_in2 = m().detach().reshape(1,-1).squeeze()\n",
    "\n",
    "fig2 = hf.create_density_plot(params)\n",
    "fig3 = go.Figure()\n",
    "fig3.add_trace(\n",
    "    go.Scatter(x=X_in, y=y_in, mode='markers')\n",
    ")\n",
    "fig3.add_trace(\n",
    "    go.Scatter(x=X_in, y=y_in2)\n",
    ")\n",
    "\n",
    "if hasattr(opt, 'alpha_record'):\n",
    "    fig4 = px.scatter(opt.alpha_record)\n",
    "    figs = [fig1, fig2, fig4, fig3]\n",
    "else:\n",
    "    figs = [fig1, fig2, fig3]\n",
    "\n",
    "hf.figures_to_html(figs, filename)"
   ]
  },
  {
   "cell_type": "code",
   "execution_count": 12,
   "metadata": {},
   "outputs": [
    {
     "name": "stdout",
     "output_type": "stream",
     "text": [
      "tensor([[ 0, -1,  1],\n",
      "        [ 1,  1,  1],\n",
      "        [ 2,  2,  3]]) tensor([1, 2, 3])\n",
      "tensor([11, 16, 25])\n"
     ]
    }
   ],
   "source": [
    "X = torch.tensor([[0,-1,1], [1,1,1], [2,2,3]])\n",
    "sweights = torch.tensor([1,2,3,10])\n",
    "print(X, sweights[0:-1])\n",
    "print(torch.matmul(X, sweights[0:-1]) + sweights[-1]) "
   ]
  },
  {
   "cell_type": "code",
   "execution_count": null,
   "metadata": {},
   "outputs": [],
   "source": [
    "\"\"\"\n",
    "Main questions\n",
    "- levy noise - power law vs levy-stable distribution\n",
    "    - do we want levy flight or specifically this brand of levy noise\n",
    "    https://link.springer.com/referenceworkentry/10.1007/978-0-387-30440-3_310\n",
    "    https://www.pnas.org/doi/full/10.1073/pnas.2001548117\n",
    "- what problems next: \n",
    "- non-convex problem next (e.g. quadratic polynomial fitting)\n",
    "- apply to LSTM deep learning network\n",
    "- compare with metadynamics + Parisi (tempering/simulated annealing)\n",
    "- collect convergence statistics\n",
    "\"\"\""
   ]
  }
 ],
 "metadata": {
  "kernelspec": {
   "display_name": "Python 3.9.7 ('honours')",
   "language": "python",
   "name": "python3"
  },
  "language_info": {
   "codemirror_mode": {
    "name": "ipython",
    "version": 3
   },
   "file_extension": ".py",
   "mimetype": "text/x-python",
   "name": "python",
   "nbconvert_exporter": "python",
   "pygments_lexer": "ipython3",
   "version": "3.9.7"
  },
  "orig_nbformat": 4,
  "vscode": {
   "interpreter": {
    "hash": "db98acc3e95f82b5e324d7be007bf550050863aec1d0387171646eb022377307"
   }
  }
 },
 "nbformat": 4,
 "nbformat_minor": 2
}
